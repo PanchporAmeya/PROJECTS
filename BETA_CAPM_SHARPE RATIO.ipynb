{
 "cells": [
  {
   "cell_type": "code",
   "execution_count": 1,
   "id": "1945f933",
   "metadata": {},
   "outputs": [],
   "source": [
    "import numpy as np\n",
    "import pandas as pd\n",
    "import matplotlib.pyplot as plt\n",
    "import yfinance as yf"
   ]
  },
  {
   "cell_type": "code",
   "execution_count": 27,
   "id": "b7a5d981",
   "metadata": {},
   "outputs": [
    {
     "name": "stdout",
     "output_type": "stream",
     "text": [
      "[*********************100%%**********************]  3 of 3 completed\n"
     ]
    }
   ],
   "source": [
    "tickers = [\"TCS.BO\",\"RELIANCE.BO\",\"^BSESN\"]\n",
    "data = yf.download(tickers, start = '2014-01-01', end = '2023-12-31')[\"Adj Close\"]"
   ]
  },
  {
   "cell_type": "code",
   "execution_count": 28,
   "id": "22b01755",
   "metadata": {},
   "outputs": [
    {
     "data": {
      "text/html": [
       "<div>\n",
       "<style scoped>\n",
       "    .dataframe tbody tr th:only-of-type {\n",
       "        vertical-align: middle;\n",
       "    }\n",
       "\n",
       "    .dataframe tbody tr th {\n",
       "        vertical-align: top;\n",
       "    }\n",
       "\n",
       "    .dataframe thead th {\n",
       "        text-align: right;\n",
       "    }\n",
       "</style>\n",
       "<table border=\"1\" class=\"dataframe\">\n",
       "  <thead>\n",
       "    <tr style=\"text-align: right;\">\n",
       "      <th></th>\n",
       "      <th>RELIANCE.BO</th>\n",
       "      <th>TCS.BO</th>\n",
       "      <th>^BSESN</th>\n",
       "    </tr>\n",
       "    <tr>\n",
       "      <th>Date</th>\n",
       "      <th></th>\n",
       "      <th></th>\n",
       "      <th></th>\n",
       "    </tr>\n",
       "  </thead>\n",
       "  <tbody>\n",
       "    <tr>\n",
       "      <th>2014-01-01</th>\n",
       "      <td>408.773895</td>\n",
       "      <td>858.149658</td>\n",
       "      <td>21140.480469</td>\n",
       "    </tr>\n",
       "    <tr>\n",
       "      <th>2014-01-02</th>\n",
       "      <td>402.633270</td>\n",
       "      <td>861.576294</td>\n",
       "      <td>20888.330078</td>\n",
       "    </tr>\n",
       "    <tr>\n",
       "      <th>2014-01-03</th>\n",
       "      <td>397.872650</td>\n",
       "      <td>885.363953</td>\n",
       "      <td>20851.330078</td>\n",
       "    </tr>\n",
       "    <tr>\n",
       "      <th>2014-01-06</th>\n",
       "      <td>393.226959</td>\n",
       "      <td>892.376892</td>\n",
       "      <td>20787.300781</td>\n",
       "    </tr>\n",
       "    <tr>\n",
       "      <th>2014-01-07</th>\n",
       "      <td>387.362335</td>\n",
       "      <td>879.865173</td>\n",
       "      <td>20693.240234</td>\n",
       "    </tr>\n",
       "    <tr>\n",
       "      <th>...</th>\n",
       "      <td>...</td>\n",
       "      <td>...</td>\n",
       "      <td>...</td>\n",
       "    </tr>\n",
       "    <tr>\n",
       "      <th>2023-12-22</th>\n",
       "      <td>2564.699951</td>\n",
       "      <td>3825.300049</td>\n",
       "      <td>71106.960938</td>\n",
       "    </tr>\n",
       "    <tr>\n",
       "      <th>2023-12-26</th>\n",
       "      <td>2577.500000</td>\n",
       "      <td>3794.600098</td>\n",
       "      <td>71336.796875</td>\n",
       "    </tr>\n",
       "    <tr>\n",
       "      <th>2023-12-27</th>\n",
       "      <td>2586.350098</td>\n",
       "      <td>3810.800049</td>\n",
       "      <td>72038.429688</td>\n",
       "    </tr>\n",
       "    <tr>\n",
       "      <th>2023-12-28</th>\n",
       "      <td>2605.800049</td>\n",
       "      <td>3801.050049</td>\n",
       "      <td>72410.382812</td>\n",
       "    </tr>\n",
       "    <tr>\n",
       "      <th>2023-12-29</th>\n",
       "      <td>2584.850098</td>\n",
       "      <td>3794.949951</td>\n",
       "      <td>72240.257812</td>\n",
       "    </tr>\n",
       "  </tbody>\n",
       "</table>\n",
       "<p>2463 rows × 3 columns</p>\n",
       "</div>"
      ],
      "text/plain": [
       "            RELIANCE.BO       TCS.BO        ^BSESN\n",
       "Date                                              \n",
       "2014-01-01   408.773895   858.149658  21140.480469\n",
       "2014-01-02   402.633270   861.576294  20888.330078\n",
       "2014-01-03   397.872650   885.363953  20851.330078\n",
       "2014-01-06   393.226959   892.376892  20787.300781\n",
       "2014-01-07   387.362335   879.865173  20693.240234\n",
       "...                 ...          ...           ...\n",
       "2023-12-22  2564.699951  3825.300049  71106.960938\n",
       "2023-12-26  2577.500000  3794.600098  71336.796875\n",
       "2023-12-27  2586.350098  3810.800049  72038.429688\n",
       "2023-12-28  2605.800049  3801.050049  72410.382812\n",
       "2023-12-29  2584.850098  3794.949951  72240.257812\n",
       "\n",
       "[2463 rows x 3 columns]"
      ]
     },
     "execution_count": 28,
     "metadata": {},
     "output_type": "execute_result"
    }
   ],
   "source": [
    "data"
   ]
  },
  {
   "cell_type": "code",
   "execution_count": 29,
   "id": "74fcb330",
   "metadata": {},
   "outputs": [
    {
     "data": {
      "text/html": [
       "<div>\n",
       "<style scoped>\n",
       "    .dataframe tbody tr th:only-of-type {\n",
       "        vertical-align: middle;\n",
       "    }\n",
       "\n",
       "    .dataframe tbody tr th {\n",
       "        vertical-align: top;\n",
       "    }\n",
       "\n",
       "    .dataframe thead th {\n",
       "        text-align: right;\n",
       "    }\n",
       "</style>\n",
       "<table border=\"1\" class=\"dataframe\">\n",
       "  <thead>\n",
       "    <tr style=\"text-align: right;\">\n",
       "      <th></th>\n",
       "      <th>RELIANCE.BO</th>\n",
       "      <th>TCS.BO</th>\n",
       "      <th>^BSESN</th>\n",
       "    </tr>\n",
       "    <tr>\n",
       "      <th>Date</th>\n",
       "      <th></th>\n",
       "      <th></th>\n",
       "      <th></th>\n",
       "    </tr>\n",
       "  </thead>\n",
       "  <tbody>\n",
       "    <tr>\n",
       "      <th>2014-01-01</th>\n",
       "      <td>NaN</td>\n",
       "      <td>NaN</td>\n",
       "      <td>NaN</td>\n",
       "    </tr>\n",
       "    <tr>\n",
       "      <th>2014-01-02</th>\n",
       "      <td>-0.015136</td>\n",
       "      <td>0.003985</td>\n",
       "      <td>-0.011999</td>\n",
       "    </tr>\n",
       "    <tr>\n",
       "      <th>2014-01-03</th>\n",
       "      <td>-0.011894</td>\n",
       "      <td>0.027235</td>\n",
       "      <td>-0.001773</td>\n",
       "    </tr>\n",
       "    <tr>\n",
       "      <th>2014-01-06</th>\n",
       "      <td>-0.011745</td>\n",
       "      <td>0.007890</td>\n",
       "      <td>-0.003075</td>\n",
       "    </tr>\n",
       "    <tr>\n",
       "      <th>2014-01-07</th>\n",
       "      <td>-0.015026</td>\n",
       "      <td>-0.014120</td>\n",
       "      <td>-0.004535</td>\n",
       "    </tr>\n",
       "    <tr>\n",
       "      <th>...</th>\n",
       "      <td>...</td>\n",
       "      <td>...</td>\n",
       "      <td>...</td>\n",
       "    </tr>\n",
       "    <tr>\n",
       "      <th>2023-12-22</th>\n",
       "      <td>0.000975</td>\n",
       "      <td>0.009416</td>\n",
       "      <td>0.003407</td>\n",
       "    </tr>\n",
       "    <tr>\n",
       "      <th>2023-12-26</th>\n",
       "      <td>0.004978</td>\n",
       "      <td>-0.008058</td>\n",
       "      <td>0.003227</td>\n",
       "    </tr>\n",
       "    <tr>\n",
       "      <th>2023-12-27</th>\n",
       "      <td>0.003428</td>\n",
       "      <td>0.004260</td>\n",
       "      <td>0.009787</td>\n",
       "    </tr>\n",
       "    <tr>\n",
       "      <th>2023-12-28</th>\n",
       "      <td>0.007492</td>\n",
       "      <td>-0.002562</td>\n",
       "      <td>0.005150</td>\n",
       "    </tr>\n",
       "    <tr>\n",
       "      <th>2023-12-29</th>\n",
       "      <td>-0.008072</td>\n",
       "      <td>-0.001606</td>\n",
       "      <td>-0.002352</td>\n",
       "    </tr>\n",
       "  </tbody>\n",
       "</table>\n",
       "<p>2463 rows × 3 columns</p>\n",
       "</div>"
      ],
      "text/plain": [
       "            RELIANCE.BO    TCS.BO    ^BSESN\n",
       "Date                                       \n",
       "2014-01-01          NaN       NaN       NaN\n",
       "2014-01-02    -0.015136  0.003985 -0.011999\n",
       "2014-01-03    -0.011894  0.027235 -0.001773\n",
       "2014-01-06    -0.011745  0.007890 -0.003075\n",
       "2014-01-07    -0.015026 -0.014120 -0.004535\n",
       "...                 ...       ...       ...\n",
       "2023-12-22     0.000975  0.009416  0.003407\n",
       "2023-12-26     0.004978 -0.008058  0.003227\n",
       "2023-12-27     0.003428  0.004260  0.009787\n",
       "2023-12-28     0.007492 -0.002562  0.005150\n",
       "2023-12-29    -0.008072 -0.001606 -0.002352\n",
       "\n",
       "[2463 rows x 3 columns]"
      ]
     },
     "execution_count": 29,
     "metadata": {},
     "output_type": "execute_result"
    }
   ],
   "source": [
    "security_returns = np.log(data/data.shift(1))\n",
    "security_returns"
   ]
  },
  {
   "cell_type": "code",
   "execution_count": 30,
   "id": "0b93f995",
   "metadata": {},
   "outputs": [
    {
     "data": {
      "text/html": [
       "<div>\n",
       "<style scoped>\n",
       "    .dataframe tbody tr th:only-of-type {\n",
       "        vertical-align: middle;\n",
       "    }\n",
       "\n",
       "    .dataframe tbody tr th {\n",
       "        vertical-align: top;\n",
       "    }\n",
       "\n",
       "    .dataframe thead th {\n",
       "        text-align: right;\n",
       "    }\n",
       "</style>\n",
       "<table border=\"1\" class=\"dataframe\">\n",
       "  <thead>\n",
       "    <tr style=\"text-align: right;\">\n",
       "      <th></th>\n",
       "      <th>RELIANCE.BO</th>\n",
       "      <th>TCS.BO</th>\n",
       "      <th>^BSESN</th>\n",
       "    </tr>\n",
       "  </thead>\n",
       "  <tbody>\n",
       "    <tr>\n",
       "      <th>RELIANCE.BO</th>\n",
       "      <td>0.076715</td>\n",
       "      <td>0.016142</td>\n",
       "      <td>0.030199</td>\n",
       "    </tr>\n",
       "    <tr>\n",
       "      <th>TCS.BO</th>\n",
       "      <td>0.016142</td>\n",
       "      <td>0.056622</td>\n",
       "      <td>0.018331</td>\n",
       "    </tr>\n",
       "    <tr>\n",
       "      <th>^BSESN</th>\n",
       "      <td>0.030199</td>\n",
       "      <td>0.018331</td>\n",
       "      <td>0.027782</td>\n",
       "    </tr>\n",
       "  </tbody>\n",
       "</table>\n",
       "</div>"
      ],
      "text/plain": [
       "             RELIANCE.BO    TCS.BO    ^BSESN\n",
       "RELIANCE.BO     0.076715  0.016142  0.030199\n",
       "TCS.BO          0.016142  0.056622  0.018331\n",
       "^BSESN          0.030199  0.018331  0.027782"
      ]
     },
     "execution_count": 30,
     "metadata": {},
     "output_type": "execute_result"
    }
   ],
   "source": [
    "cov = security_returns.cov() * 250\n",
    "cov"
   ]
  },
  {
   "cell_type": "code",
   "execution_count": 37,
   "id": "890f3618",
   "metadata": {},
   "outputs": [
    {
     "data": {
      "text/plain": [
       "0.018331351201196854"
      ]
     },
     "execution_count": 37,
     "metadata": {},
     "output_type": "execute_result"
    }
   ],
   "source": [
    "cov_market = cov.iloc[1,2]\n",
    "cov_market"
   ]
  },
  {
   "cell_type": "code",
   "execution_count": 38,
   "id": "d86168f8",
   "metadata": {},
   "outputs": [
    {
     "data": {
      "text/plain": [
       "0.030198873118650733"
      ]
     },
     "execution_count": 38,
     "metadata": {},
     "output_type": "execute_result"
    }
   ],
   "source": [
    "cov_market_1 = cov.iloc[0,2]\n",
    "cov_market_1"
   ]
  },
  {
   "cell_type": "code",
   "execution_count": 39,
   "id": "07a63206",
   "metadata": {},
   "outputs": [
    {
     "data": {
      "text/plain": [
       "0.027781964591972397"
      ]
     },
     "execution_count": 39,
     "metadata": {},
     "output_type": "execute_result"
    }
   ],
   "source": [
    "market_var = security_returns['^BSESN'].var() * 250\n",
    "market_var"
   ]
  },
  {
   "cell_type": "markdown",
   "id": "cfbe52df",
   "metadata": {},
   "source": [
    "# BETA"
   ]
  },
  {
   "cell_type": "code",
   "execution_count": 40,
   "id": "fde83efd",
   "metadata": {},
   "outputs": [
    {
     "data": {
      "text/plain": [
       "0.6598291902831702"
      ]
     },
     "execution_count": 40,
     "metadata": {},
     "output_type": "execute_result"
    }
   ],
   "source": [
    "TCS_Beta = cov_market/market_var\n",
    "TCS_Beta"
   ]
  },
  {
   "cell_type": "code",
   "execution_count": 43,
   "id": "2db1ed0c",
   "metadata": {},
   "outputs": [
    {
     "data": {
      "text/plain": [
       "1.0869955945223795"
      ]
     },
     "execution_count": 43,
     "metadata": {},
     "output_type": "execute_result"
    }
   ],
   "source": [
    "RELIANCE_Beta = cov_market_1/market_var\n",
    "RELIANCE_Beta"
   ]
  },
  {
   "cell_type": "markdown",
   "id": "1613d0bb",
   "metadata": {},
   "source": [
    "# CAPM"
   ]
  },
  {
   "cell_type": "code",
   "execution_count": 44,
   "id": "924aa9ad",
   "metadata": {},
   "outputs": [],
   "source": [
    "# Risk free rate in India is 7.365% (10 year govt bond yield) Equity risk premium in India is 9.73%\n",
    "\n",
    "TCS_return = 0.07365 + TCS_Beta * 0.0973\n",
    "RELIANCE_return = 0.07365 + RELIANCE_Beta * 0.0973"
   ]
  },
  {
   "cell_type": "code",
   "execution_count": 46,
   "id": "c99f4e96",
   "metadata": {},
   "outputs": [
    {
     "data": {
      "text/plain": [
       "0.13785138021455245"
      ]
     },
     "execution_count": 46,
     "metadata": {},
     "output_type": "execute_result"
    }
   ],
   "source": [
    "TCS_return"
   ]
  },
  {
   "cell_type": "code",
   "execution_count": 48,
   "id": "cd494ad3",
   "metadata": {},
   "outputs": [
    {
     "data": {
      "text/plain": [
       "0.17941467134702752"
      ]
     },
     "execution_count": 48,
     "metadata": {},
     "output_type": "execute_result"
    }
   ],
   "source": [
    "RELIANCE_return"
   ]
  },
  {
   "cell_type": "markdown",
   "id": "27c289ae",
   "metadata": {},
   "source": [
    "# SHARPE RATIO"
   ]
  },
  {
   "cell_type": "code",
   "execution_count": 52,
   "id": "fb0a1d1e",
   "metadata": {},
   "outputs": [
    {
     "data": {
      "text/plain": [
       "0.2698065551457152"
      ]
     },
     "execution_count": 52,
     "metadata": {},
     "output_type": "execute_result"
    }
   ],
   "source": [
    "SHARPE_TCS = (TCS_return - 0.07365)/(security_returns[\"TCS.BO\"].std() * 250 ** 0.5)\n",
    "SHARPE_TCS"
   ]
  },
  {
   "cell_type": "code",
   "execution_count": 53,
   "id": "0289f9c0",
   "metadata": {},
   "outputs": [
    {
     "data": {
      "text/plain": [
       "0.3818559930965873"
      ]
     },
     "execution_count": 53,
     "metadata": {},
     "output_type": "execute_result"
    }
   ],
   "source": [
    "SHARPE_RELIANCE = (RELIANCE_return - 0.07365)/(security_returns[\"RELIANCE.BO\"].std() * 250 ** 0.5)\n",
    "SHARPE_RELIANCE"
   ]
  }
 ],
 "metadata": {
  "kernelspec": {
   "display_name": "Python 3 (ipykernel)",
   "language": "python",
   "name": "python3"
  },
  "language_info": {
   "codemirror_mode": {
    "name": "ipython",
    "version": 3
   },
   "file_extension": ".py",
   "mimetype": "text/x-python",
   "name": "python",
   "nbconvert_exporter": "python",
   "pygments_lexer": "ipython3",
   "version": "3.11.5"
  }
 },
 "nbformat": 4,
 "nbformat_minor": 5
}
