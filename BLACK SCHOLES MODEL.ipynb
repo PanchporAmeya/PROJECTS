{
 "cells": [
  {
   "cell_type": "code",
   "execution_count": 2,
   "id": "f8e98c0c",
   "metadata": {},
   "outputs": [],
   "source": [
    "import numpy as np\n",
    "import pandas as pd\n",
    "from scipy.stats import norm\n",
    "import yfinance as yf"
   ]
  },
  {
   "cell_type": "markdown",
   "id": "a2a05c03",
   "metadata": {},
   "source": [
    "# d1 = (ln (S/K) + (r + stdev^2/2) * T)/s * T^0.5\n",
    "\n",
    "# d2 = d1 - s*T^0.5"
   ]
  },
  {
   "cell_type": "code",
   "execution_count": 13,
   "id": "470710cc",
   "metadata": {},
   "outputs": [],
   "source": [
    "def d1(S,K,r,stdev,T):\n",
    "    return((np.log(S/K)) + (r + stdev ** 2/2) * T)/(stdev * np.sqrt(T))\n",
    "def d2(S,K,r,stdev,T):\n",
    "    return((np.log(S/K)) + (r - stdev ** 2/2) * T)/(stdev * np.sqrt(T))\n",
    "# S - Stock Price\n",
    "# K - Strike Price\n",
    "# r - risk free rate\n",
    "# stdev - standard deviation\n",
    "# T - time horizon (years)"
   ]
  },
  {
   "cell_type": "code",
   "execution_count": 7,
   "id": "4a441cce",
   "metadata": {},
   "outputs": [
    {
     "data": {
      "text/plain": [
       "0.5"
      ]
     },
     "execution_count": 7,
     "metadata": {},
     "output_type": "execute_result"
    }
   ],
   "source": [
    "norm.cdf(0)"
   ]
  },
  {
   "cell_type": "code",
   "execution_count": 8,
   "id": "b5504ff3",
   "metadata": {},
   "outputs": [
    {
     "data": {
      "text/plain": [
       "0.5987063256829237"
      ]
     },
     "execution_count": 8,
     "metadata": {},
     "output_type": "execute_result"
    }
   ],
   "source": [
    "norm.cdf(0.25)"
   ]
  },
  {
   "cell_type": "code",
   "execution_count": 9,
   "id": "7bcc5a4c",
   "metadata": {},
   "outputs": [
    {
     "data": {
      "text/plain": [
       "0.7733726476231317"
      ]
     },
     "execution_count": 9,
     "metadata": {},
     "output_type": "execute_result"
    }
   ],
   "source": [
    "norm.cdf(0.75)"
   ]
  },
  {
   "cell_type": "code",
   "execution_count": 12,
   "id": "45e3a7c2",
   "metadata": {},
   "outputs": [
    {
     "data": {
      "text/plain": [
       "1.0"
      ]
     },
     "execution_count": 12,
     "metadata": {},
     "output_type": "execute_result"
    }
   ],
   "source": [
    "norm.cdf(9)"
   ]
  },
  {
   "cell_type": "code",
   "execution_count": 20,
   "id": "0f94c1fa",
   "metadata": {},
   "outputs": [],
   "source": [
    "def BSM(S,K,r,stdev,T):\n",
    "    return (S * norm.cdf(d1(S,K,r,stdev,T))) - (K * np.exp(-r * T) * norm.cdf(d2(S,K,r,stdev,T)))"
   ]
  },
  {
   "cell_type": "code",
   "execution_count": 18,
   "id": "5ad07a97",
   "metadata": {},
   "outputs": [
    {
     "name": "stdout",
     "output_type": "stream",
     "text": [
      "[*********************100%%**********************]  1 of 1 completed\n"
     ]
    }
   ],
   "source": [
    "ticker = \"TCS.BO\"\n",
    "data = yf.download(ticker, start = '2014-01-01', end = '2024-01-01')[\"Adj Close\"]"
   ]
  },
  {
   "cell_type": "code",
   "execution_count": 4,
   "id": "e31baf67",
   "metadata": {},
   "outputs": [
    {
     "data": {
      "text/plain": [
       "Date\n",
       "2014-01-01     858.149597\n",
       "2014-01-02     861.576416\n",
       "2014-01-03     885.364075\n",
       "2014-01-06     892.376770\n",
       "2014-01-07     879.865356\n",
       "                 ...     \n",
       "2023-12-22    3825.300049\n",
       "2023-12-26    3794.600098\n",
       "2023-12-27    3810.800049\n",
       "2023-12-28    3801.050049\n",
       "2023-12-29    3794.949951\n",
       "Name: Adj Close, Length: 2444, dtype: float64"
      ]
     },
     "execution_count": 4,
     "metadata": {},
     "output_type": "execute_result"
    }
   ],
   "source": [
    "data"
   ]
  },
  {
   "cell_type": "code",
   "execution_count": 6,
   "id": "d8a9079e",
   "metadata": {},
   "outputs": [
    {
     "data": {
      "text/plain": [
       "3794.949951171875"
      ]
     },
     "execution_count": 6,
     "metadata": {},
     "output_type": "execute_result"
    }
   ],
   "source": [
    "S = data.iloc[-1]\n",
    "S"
   ]
  },
  {
   "cell_type": "code",
   "execution_count": 7,
   "id": "eb3be7be",
   "metadata": {},
   "outputs": [
    {
     "data": {
      "text/plain": [
       "Date\n",
       "2014-01-01         NaN\n",
       "2014-01-02    0.003985\n",
       "2014-01-03    0.027235\n",
       "2014-01-06    0.007889\n",
       "2014-01-07   -0.014120\n",
       "                ...   \n",
       "2023-12-22    0.009416\n",
       "2023-12-26   -0.008058\n",
       "2023-12-27    0.004260\n",
       "2023-12-28   -0.002562\n",
       "2023-12-29   -0.001606\n",
       "Name: Adj Close, Length: 2444, dtype: float64"
      ]
     },
     "execution_count": 7,
     "metadata": {},
     "output_type": "execute_result"
    }
   ],
   "source": [
    "log_returns = np.log(1 + data.pct_change())\n",
    "log_returns"
   ]
  },
  {
   "cell_type": "code",
   "execution_count": 8,
   "id": "579e2237",
   "metadata": {},
   "outputs": [
    {
     "data": {
      "text/plain": [
       "0.23928660864639112"
      ]
     },
     "execution_count": 8,
     "metadata": {},
     "output_type": "execute_result"
    }
   ],
   "source": [
    "stdev = log_returns.std() * 250 ** 0.5\n",
    "stdev"
   ]
  },
  {
   "cell_type": "code",
   "execution_count": 9,
   "id": "2c950e69",
   "metadata": {},
   "outputs": [],
   "source": [
    "r = 0.07\n",
    "K = 3500\n",
    "T = 1"
   ]
  },
  {
   "cell_type": "code",
   "execution_count": 14,
   "id": "f0d099d0",
   "metadata": {},
   "outputs": [
    {
     "data": {
      "text/plain": [
       "0.750302307858431"
      ]
     },
     "execution_count": 14,
     "metadata": {},
     "output_type": "execute_result"
    }
   ],
   "source": [
    "d1(S,K,r,stdev,T)"
   ]
  },
  {
   "cell_type": "code",
   "execution_count": 15,
   "id": "a1ebd0ed",
   "metadata": {},
   "outputs": [
    {
     "data": {
      "text/plain": [
       "0.5110156992120398"
      ]
     },
     "execution_count": 15,
     "metadata": {},
     "output_type": "execute_result"
    }
   ],
   "source": [
    "d2(S,K,r,stdev,T)"
   ]
  },
  {
   "cell_type": "code",
   "execution_count": 21,
   "id": "05dc33f7",
   "metadata": {},
   "outputs": [
    {
     "data": {
      "text/plain": [
       "666.1311523838131"
      ]
     },
     "execution_count": 21,
     "metadata": {},
     "output_type": "execute_result"
    }
   ],
   "source": [
    "BSM(S,K,r,stdev,T)"
   ]
  }
 ],
 "metadata": {
  "kernelspec": {
   "display_name": "Python 3 (ipykernel)",
   "language": "python",
   "name": "python3"
  },
  "language_info": {
   "codemirror_mode": {
    "name": "ipython",
    "version": 3
   },
   "file_extension": ".py",
   "mimetype": "text/x-python",
   "name": "python",
   "nbconvert_exporter": "python",
   "pygments_lexer": "ipython3",
   "version": "3.11.5"
  }
 },
 "nbformat": 4,
 "nbformat_minor": 5
}
