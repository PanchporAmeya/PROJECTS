{
 "cells": [
  {
   "cell_type": "code",
   "execution_count": 1,
   "id": "9e69e3ba",
   "metadata": {},
   "outputs": [],
   "source": [
    "import pandas as pd\n",
    "import numpy as np\n",
    "import matplotlib.pyplot as plt\n",
    "import yfinance as yf\n",
    "from pypfopt import EfficientFrontier, risk_models, expected_returns, plotting"
   ]
  },
  {
   "cell_type": "code",
   "execution_count": 35,
   "id": "fa12ec6b",
   "metadata": {},
   "outputs": [
    {
     "name": "stderr",
     "output_type": "stream",
     "text": [
      "[*********************100%%**********************]  9 of 9 completed\n"
     ]
    }
   ],
   "source": [
    "tickers = ['TCS.BO','RELIANCE.BO','SBIN.BO', 'SUZLON.NS','ACC.NS','AUROPHARMA.NS','BSOFT.NS','NBCC.NS','VBL.NS']\n",
    "data = yf.download(tickers, start = '2019-01-01', end = '2023-01-01')['Adj Close']"
   ]
  },
  {
   "cell_type": "code",
   "execution_count": 36,
   "id": "d4831592",
   "metadata": {},
   "outputs": [
    {
     "data": {
      "text/html": [
       "<div>\n",
       "<style scoped>\n",
       "    .dataframe tbody tr th:only-of-type {\n",
       "        vertical-align: middle;\n",
       "    }\n",
       "\n",
       "    .dataframe tbody tr th {\n",
       "        vertical-align: top;\n",
       "    }\n",
       "\n",
       "    .dataframe thead th {\n",
       "        text-align: right;\n",
       "    }\n",
       "</style>\n",
       "<table border=\"1\" class=\"dataframe\">\n",
       "  <thead>\n",
       "    <tr style=\"text-align: right;\">\n",
       "      <th>Ticker</th>\n",
       "      <th>ACC.NS</th>\n",
       "      <th>AUROPHARMA.NS</th>\n",
       "      <th>BSOFT.NS</th>\n",
       "      <th>NBCC.NS</th>\n",
       "      <th>RELIANCE.BO</th>\n",
       "      <th>SBIN.BO</th>\n",
       "      <th>SUZLON.NS</th>\n",
       "      <th>TCS.BO</th>\n",
       "      <th>VBL.NS</th>\n",
       "    </tr>\n",
       "    <tr>\n",
       "      <th>Date</th>\n",
       "      <th></th>\n",
       "      <th></th>\n",
       "      <th></th>\n",
       "      <th></th>\n",
       "      <th></th>\n",
       "      <th></th>\n",
       "      <th></th>\n",
       "      <th></th>\n",
       "      <th></th>\n",
       "    </tr>\n",
       "  </thead>\n",
       "  <tbody>\n",
       "    <tr>\n",
       "      <th>2019-01-01</th>\n",
       "      <td>1382.721558</td>\n",
       "      <td>705.565369</td>\n",
       "      <td>123.030952</td>\n",
       "      <td>35.166302</td>\n",
       "      <td>1096.508423</td>\n",
       "      <td>279.200409</td>\n",
       "      <td>5.004266</td>\n",
       "      <td>1682.217163</td>\n",
       "      <td>46.809258</td>\n",
       "    </tr>\n",
       "    <tr>\n",
       "      <th>2019-01-02</th>\n",
       "      <td>1378.217163</td>\n",
       "      <td>697.096313</td>\n",
       "      <td>122.435898</td>\n",
       "      <td>35.472092</td>\n",
       "      <td>1081.791870</td>\n",
       "      <td>274.070618</td>\n",
       "      <td>4.912444</td>\n",
       "      <td>1700.610352</td>\n",
       "      <td>45.678135</td>\n",
       "    </tr>\n",
       "    <tr>\n",
       "      <th>2019-01-03</th>\n",
       "      <td>1348.775879</td>\n",
       "      <td>688.964355</td>\n",
       "      <td>119.942436</td>\n",
       "      <td>35.594414</td>\n",
       "      <td>1067.564087</td>\n",
       "      <td>271.459076</td>\n",
       "      <td>4.866534</td>\n",
       "      <td>1676.999878</td>\n",
       "      <td>45.965225</td>\n",
       "    </tr>\n",
       "    <tr>\n",
       "      <th>2019-01-04</th>\n",
       "      <td>1364.425171</td>\n",
       "      <td>698.539856</td>\n",
       "      <td>119.262398</td>\n",
       "      <td>36.022530</td>\n",
       "      <td>1074.702515</td>\n",
       "      <td>277.474915</td>\n",
       "      <td>5.004266</td>\n",
       "      <td>1657.103882</td>\n",
       "      <td>46.355656</td>\n",
       "    </tr>\n",
       "    <tr>\n",
       "      <th>2019-01-07</th>\n",
       "      <td>1372.644775</td>\n",
       "      <td>697.481262</td>\n",
       "      <td>117.845642</td>\n",
       "      <td>37.337440</td>\n",
       "      <td>1079.004761</td>\n",
       "      <td>275.796112</td>\n",
       "      <td>4.912444</td>\n",
       "      <td>1677.177124</td>\n",
       "      <td>46.605419</td>\n",
       "    </tr>\n",
       "    <tr>\n",
       "      <th>...</th>\n",
       "      <td>...</td>\n",
       "      <td>...</td>\n",
       "      <td>...</td>\n",
       "      <td>...</td>\n",
       "      <td>...</td>\n",
       "      <td>...</td>\n",
       "      <td>...</td>\n",
       "      <td>...</td>\n",
       "      <td>...</td>\n",
       "    </tr>\n",
       "    <tr>\n",
       "      <th>2022-12-26</th>\n",
       "      <td>2404.472900</td>\n",
       "      <td>432.548828</td>\n",
       "      <td>286.395691</td>\n",
       "      <td>23.891436</td>\n",
       "      <td>2507.103516</td>\n",
       "      <td>575.719849</td>\n",
       "      <td>9.800000</td>\n",
       "      <td>3113.738525</td>\n",
       "      <td>268.126068</td>\n",
       "    </tr>\n",
       "    <tr>\n",
       "      <th>2022-12-27</th>\n",
       "      <td>2458.393066</td>\n",
       "      <td>437.000977</td>\n",
       "      <td>291.845734</td>\n",
       "      <td>24.381014</td>\n",
       "      <td>2527.511963</td>\n",
       "      <td>580.640076</td>\n",
       "      <td>10.200000</td>\n",
       "      <td>3116.799072</td>\n",
       "      <td>261.426392</td>\n",
       "    </tr>\n",
       "    <tr>\n",
       "      <th>2022-12-28</th>\n",
       "      <td>2435.922607</td>\n",
       "      <td>435.516937</td>\n",
       "      <td>288.114136</td>\n",
       "      <td>24.707401</td>\n",
       "      <td>2526.915771</td>\n",
       "      <td>580.013000</td>\n",
       "      <td>10.050000</td>\n",
       "      <td>3114.168945</td>\n",
       "      <td>262.328278</td>\n",
       "    </tr>\n",
       "    <tr>\n",
       "      <th>2022-12-29</th>\n",
       "      <td>2428.481934</td>\n",
       "      <td>432.499329</td>\n",
       "      <td>287.819580</td>\n",
       "      <td>24.642122</td>\n",
       "      <td>2525.029297</td>\n",
       "      <td>590.721802</td>\n",
       "      <td>10.150000</td>\n",
       "      <td>3126.553711</td>\n",
       "      <td>269.018036</td>\n",
       "    </tr>\n",
       "    <tr>\n",
       "      <th>2022-12-30</th>\n",
       "      <td>2422.281250</td>\n",
       "      <td>433.637115</td>\n",
       "      <td>293.367767</td>\n",
       "      <td>25.327534</td>\n",
       "      <td>2530.640137</td>\n",
       "      <td>591.590149</td>\n",
       "      <td>10.600000</td>\n",
       "      <td>3116.989990</td>\n",
       "      <td>262.149841</td>\n",
       "    </tr>\n",
       "  </tbody>\n",
       "</table>\n",
       "<p>990 rows × 9 columns</p>\n",
       "</div>"
      ],
      "text/plain": [
       "Ticker           ACC.NS  AUROPHARMA.NS    BSOFT.NS    NBCC.NS  RELIANCE.BO  \\\n",
       "Date                                                                         \n",
       "2019-01-01  1382.721558     705.565369  123.030952  35.166302  1096.508423   \n",
       "2019-01-02  1378.217163     697.096313  122.435898  35.472092  1081.791870   \n",
       "2019-01-03  1348.775879     688.964355  119.942436  35.594414  1067.564087   \n",
       "2019-01-04  1364.425171     698.539856  119.262398  36.022530  1074.702515   \n",
       "2019-01-07  1372.644775     697.481262  117.845642  37.337440  1079.004761   \n",
       "...                 ...            ...         ...        ...          ...   \n",
       "2022-12-26  2404.472900     432.548828  286.395691  23.891436  2507.103516   \n",
       "2022-12-27  2458.393066     437.000977  291.845734  24.381014  2527.511963   \n",
       "2022-12-28  2435.922607     435.516937  288.114136  24.707401  2526.915771   \n",
       "2022-12-29  2428.481934     432.499329  287.819580  24.642122  2525.029297   \n",
       "2022-12-30  2422.281250     433.637115  293.367767  25.327534  2530.640137   \n",
       "\n",
       "Ticker         SBIN.BO  SUZLON.NS       TCS.BO      VBL.NS  \n",
       "Date                                                        \n",
       "2019-01-01  279.200409   5.004266  1682.217163   46.809258  \n",
       "2019-01-02  274.070618   4.912444  1700.610352   45.678135  \n",
       "2019-01-03  271.459076   4.866534  1676.999878   45.965225  \n",
       "2019-01-04  277.474915   5.004266  1657.103882   46.355656  \n",
       "2019-01-07  275.796112   4.912444  1677.177124   46.605419  \n",
       "...                ...        ...          ...         ...  \n",
       "2022-12-26  575.719849   9.800000  3113.738525  268.126068  \n",
       "2022-12-27  580.640076  10.200000  3116.799072  261.426392  \n",
       "2022-12-28  580.013000  10.050000  3114.168945  262.328278  \n",
       "2022-12-29  590.721802  10.150000  3126.553711  269.018036  \n",
       "2022-12-30  591.590149  10.600000  3116.989990  262.149841  \n",
       "\n",
       "[990 rows x 9 columns]"
      ]
     },
     "execution_count": 36,
     "metadata": {},
     "output_type": "execute_result"
    }
   ],
   "source": [
    "data"
   ]
  },
  {
   "cell_type": "code",
   "execution_count": 37,
   "id": "cabc5d1f",
   "metadata": {},
   "outputs": [],
   "source": [
    "Ret = expected_returns.mean_historical_return(data)\n",
    "Cov = risk_models.sample_cov(data)"
   ]
  },
  {
   "cell_type": "code",
   "execution_count": 38,
   "id": "2c9ee728",
   "metadata": {},
   "outputs": [
    {
     "data": {
      "text/plain": [
       "Ticker\n",
       "ACC.NS           0.153565\n",
       "AUROPHARMA.NS   -0.116652\n",
       "BSOFT.NS         0.247849\n",
       "NBCC.NS         -0.080224\n",
       "RELIANCE.BO      0.237511\n",
       "SBIN.BO          0.210856\n",
       "SUZLON.NS        0.210757\n",
       "TCS.BO           0.170172\n",
       "VBL.NS           0.551129\n",
       "dtype: float64"
      ]
     },
     "execution_count": 38,
     "metadata": {},
     "output_type": "execute_result"
    }
   ],
   "source": [
    "Ret"
   ]
  },
  {
   "cell_type": "code",
   "execution_count": 39,
   "id": "79cb3cc6",
   "metadata": {},
   "outputs": [
    {
     "data": {
      "text/html": [
       "<div>\n",
       "<style scoped>\n",
       "    .dataframe tbody tr th:only-of-type {\n",
       "        vertical-align: middle;\n",
       "    }\n",
       "\n",
       "    .dataframe tbody tr th {\n",
       "        vertical-align: top;\n",
       "    }\n",
       "\n",
       "    .dataframe thead th {\n",
       "        text-align: right;\n",
       "    }\n",
       "</style>\n",
       "<table border=\"1\" class=\"dataframe\">\n",
       "  <thead>\n",
       "    <tr style=\"text-align: right;\">\n",
       "      <th>Ticker</th>\n",
       "      <th>ACC.NS</th>\n",
       "      <th>AUROPHARMA.NS</th>\n",
       "      <th>BSOFT.NS</th>\n",
       "      <th>NBCC.NS</th>\n",
       "      <th>RELIANCE.BO</th>\n",
       "      <th>SBIN.BO</th>\n",
       "      <th>SUZLON.NS</th>\n",
       "      <th>TCS.BO</th>\n",
       "      <th>VBL.NS</th>\n",
       "    </tr>\n",
       "    <tr>\n",
       "      <th>Ticker</th>\n",
       "      <th></th>\n",
       "      <th></th>\n",
       "      <th></th>\n",
       "      <th></th>\n",
       "      <th></th>\n",
       "      <th></th>\n",
       "      <th></th>\n",
       "      <th></th>\n",
       "      <th></th>\n",
       "    </tr>\n",
       "  </thead>\n",
       "  <tbody>\n",
       "    <tr>\n",
       "      <th>ACC.NS</th>\n",
       "      <td>0.092750</td>\n",
       "      <td>0.041417</td>\n",
       "      <td>0.049321</td>\n",
       "      <td>0.060861</td>\n",
       "      <td>0.032293</td>\n",
       "      <td>0.049521</td>\n",
       "      <td>0.039039</td>\n",
       "      <td>0.023134</td>\n",
       "      <td>0.028415</td>\n",
       "    </tr>\n",
       "    <tr>\n",
       "      <th>AUROPHARMA.NS</th>\n",
       "      <td>0.041417</td>\n",
       "      <td>0.181372</td>\n",
       "      <td>0.057374</td>\n",
       "      <td>0.061121</td>\n",
       "      <td>0.038712</td>\n",
       "      <td>0.048678</td>\n",
       "      <td>0.032038</td>\n",
       "      <td>0.031033</td>\n",
       "      <td>0.014873</td>\n",
       "    </tr>\n",
       "    <tr>\n",
       "      <th>BSOFT.NS</th>\n",
       "      <td>0.049321</td>\n",
       "      <td>0.057374</td>\n",
       "      <td>0.251042</td>\n",
       "      <td>0.073648</td>\n",
       "      <td>0.047093</td>\n",
       "      <td>0.058628</td>\n",
       "      <td>0.046149</td>\n",
       "      <td>0.049951</td>\n",
       "      <td>0.034645</td>\n",
       "    </tr>\n",
       "    <tr>\n",
       "      <th>NBCC.NS</th>\n",
       "      <td>0.060861</td>\n",
       "      <td>0.061121</td>\n",
       "      <td>0.073648</td>\n",
       "      <td>0.257734</td>\n",
       "      <td>0.053517</td>\n",
       "      <td>0.083741</td>\n",
       "      <td>0.102082</td>\n",
       "      <td>0.029891</td>\n",
       "      <td>0.037579</td>\n",
       "    </tr>\n",
       "    <tr>\n",
       "      <th>RELIANCE.BO</th>\n",
       "      <td>0.032293</td>\n",
       "      <td>0.038712</td>\n",
       "      <td>0.047093</td>\n",
       "      <td>0.053517</td>\n",
       "      <td>0.107754</td>\n",
       "      <td>0.046495</td>\n",
       "      <td>0.030251</td>\n",
       "      <td>0.032254</td>\n",
       "      <td>0.018911</td>\n",
       "    </tr>\n",
       "    <tr>\n",
       "      <th>SBIN.BO</th>\n",
       "      <td>0.049521</td>\n",
       "      <td>0.048678</td>\n",
       "      <td>0.058628</td>\n",
       "      <td>0.083741</td>\n",
       "      <td>0.046495</td>\n",
       "      <td>0.132645</td>\n",
       "      <td>0.040216</td>\n",
       "      <td>0.024650</td>\n",
       "      <td>0.027429</td>\n",
       "    </tr>\n",
       "    <tr>\n",
       "      <th>SUZLON.NS</th>\n",
       "      <td>0.039039</td>\n",
       "      <td>0.032038</td>\n",
       "      <td>0.046149</td>\n",
       "      <td>0.102082</td>\n",
       "      <td>0.030251</td>\n",
       "      <td>0.040216</td>\n",
       "      <td>0.515951</td>\n",
       "      <td>0.007223</td>\n",
       "      <td>0.029463</td>\n",
       "    </tr>\n",
       "    <tr>\n",
       "      <th>TCS.BO</th>\n",
       "      <td>0.023134</td>\n",
       "      <td>0.031033</td>\n",
       "      <td>0.049951</td>\n",
       "      <td>0.029891</td>\n",
       "      <td>0.032254</td>\n",
       "      <td>0.024650</td>\n",
       "      <td>0.007223</td>\n",
       "      <td>0.068700</td>\n",
       "      <td>0.008153</td>\n",
       "    </tr>\n",
       "    <tr>\n",
       "      <th>VBL.NS</th>\n",
       "      <td>0.028415</td>\n",
       "      <td>0.014873</td>\n",
       "      <td>0.034645</td>\n",
       "      <td>0.037579</td>\n",
       "      <td>0.018911</td>\n",
       "      <td>0.027429</td>\n",
       "      <td>0.029463</td>\n",
       "      <td>0.008153</td>\n",
       "      <td>0.154325</td>\n",
       "    </tr>\n",
       "  </tbody>\n",
       "</table>\n",
       "</div>"
      ],
      "text/plain": [
       "Ticker           ACC.NS  AUROPHARMA.NS  BSOFT.NS   NBCC.NS  RELIANCE.BO  \\\n",
       "Ticker                                                                    \n",
       "ACC.NS         0.092750       0.041417  0.049321  0.060861     0.032293   \n",
       "AUROPHARMA.NS  0.041417       0.181372  0.057374  0.061121     0.038712   \n",
       "BSOFT.NS       0.049321       0.057374  0.251042  0.073648     0.047093   \n",
       "NBCC.NS        0.060861       0.061121  0.073648  0.257734     0.053517   \n",
       "RELIANCE.BO    0.032293       0.038712  0.047093  0.053517     0.107754   \n",
       "SBIN.BO        0.049521       0.048678  0.058628  0.083741     0.046495   \n",
       "SUZLON.NS      0.039039       0.032038  0.046149  0.102082     0.030251   \n",
       "TCS.BO         0.023134       0.031033  0.049951  0.029891     0.032254   \n",
       "VBL.NS         0.028415       0.014873  0.034645  0.037579     0.018911   \n",
       "\n",
       "Ticker          SBIN.BO  SUZLON.NS    TCS.BO    VBL.NS  \n",
       "Ticker                                                  \n",
       "ACC.NS         0.049521   0.039039  0.023134  0.028415  \n",
       "AUROPHARMA.NS  0.048678   0.032038  0.031033  0.014873  \n",
       "BSOFT.NS       0.058628   0.046149  0.049951  0.034645  \n",
       "NBCC.NS        0.083741   0.102082  0.029891  0.037579  \n",
       "RELIANCE.BO    0.046495   0.030251  0.032254  0.018911  \n",
       "SBIN.BO        0.132645   0.040216  0.024650  0.027429  \n",
       "SUZLON.NS      0.040216   0.515951  0.007223  0.029463  \n",
       "TCS.BO         0.024650   0.007223  0.068700  0.008153  \n",
       "VBL.NS         0.027429   0.029463  0.008153  0.154325  "
      ]
     },
     "execution_count": 39,
     "metadata": {},
     "output_type": "execute_result"
    }
   ],
   "source": [
    "Cov"
   ]
  },
  {
   "cell_type": "code",
   "execution_count": 40,
   "id": "4a96e0a9",
   "metadata": {},
   "outputs": [
    {
     "name": "stdout",
     "output_type": "stream",
     "text": [
      "Optimal Weights: OrderedDict([('ACC.NS', 0.0), ('AUROPHARMA.NS', 0.0), ('BSOFT.NS', 0.0), ('NBCC.NS', 0.0), ('RELIANCE.BO', 0.17008), ('SBIN.BO', 0.02922), ('SUZLON.NS', 0.01723), ('TCS.BO', 0.22328), ('VBL.NS', 0.56019)])\n"
     ]
    }
   ],
   "source": [
    "ef = EfficientFrontier(Ret,Cov)\n",
    "weights = ef.max_sharpe()\n",
    "cleaned_weights = ef.clean_weights()\n",
    "print(\"Optimal Weights:\", cleaned_weights)"
   ]
  },
  {
   "cell_type": "code",
   "execution_count": 69,
   "id": "e88a0093",
   "metadata": {},
   "outputs": [
    {
     "name": "stdout",
     "output_type": "stream",
     "text": [
      "Expected annual return: 55.1%\n",
      "Annual volatility: 39.3%\n",
      "Sharpe Ratio: 1.35\n"
     ]
    }
   ],
   "source": [
    "performance = ef.portfolio_performance(verbose = True)"
   ]
  },
  {
   "cell_type": "code",
   "execution_count": 70,
   "id": "b5d7e022",
   "metadata": {},
   "outputs": [
    {
     "data": {
      "text/plain": [
       "<AxesSubplot:xlabel='Volatility', ylabel='Return'>"
      ]
     },
     "execution_count": 70,
     "metadata": {},
     "output_type": "execute_result"
    },
    {
     "data": {
      "image/png": "[encoded data removed]",
      "text/plain": [
       "<Figure size 640x480 with 1 Axes>"
      ]
     },
     "metadata": {},
     "output_type": "display_data"
    }
   ],
   "source": [
    "ef = EfficientFrontier(Ret, Cov, weight_bounds=(0,1))\n",
    "fig, ax = plt.subplots()\n",
    "plotting.plot_efficient_frontier(ef, ax=ax, show_tickers = True)"
   ]
  },
  {
   "cell_type": "code",
   "execution_count": 71,
   "id": "c3c4fc9c",
   "metadata": {},
   "outputs": [],
   "source": [
    "n_samples = 10000\n",
    "w = np.random.dirichlet(np.ones(len(Ret)), n_samples)\n",
    "Returns = w.dot(Ret)\n",
    "Risks = np.sqrt(np.diag(w @ Cov @ w.T))\n",
    "sharpe_ratios = Returns / Risks"
   ]
  },
  {
   "cell_type": "code",
   "execution_count": 72,
   "id": "ad65e882",
   "metadata": {},
   "outputs": [
    {
     "data": {
      "text/plain": [
       "array([0.38362672, 0.41842625, 0.45173987, ..., 0.51732309, 0.88623894,\n",
       "       0.35739287])"
      ]
     },
     "execution_count": 72,
     "metadata": {},
     "output_type": "execute_result"
    }
   ],
   "source": [
    "sharpe_ratios"
   ]
  },
  {
   "cell_type": "code",
   "execution_count": 73,
   "id": "3c300d04",
   "metadata": {},
   "outputs": [],
   "source": [
    "from matplotlib.colors import Normalize"
   ]
  },
  {
   "cell_type": "code",
   "execution_count": 74,
   "id": "2a3d1b99",
   "metadata": {},
   "outputs": [],
   "source": [
    "norm = Normalize(vmin=min(sharpe_ratios), vmax=max(sharpe_ratios))"
   ]
  },
  {
   "cell_type": "code",
   "execution_count": 76,
   "id": "a600fd97",
   "metadata": {},
   "outputs": [
    {
     "data": {
      "image/png": "[encoded data removed]",
      "text/plain": [
       "<Figure size 640x480 with 1 Axes>"
      ]
     },
     "metadata": {},
     "output_type": "display_data"
    }
   ],
   "source": [
    "scatter = ax.scatter(Risks, Returns, marker='.', c=sharpe_ratios, cmap='viridis', norm=norm)\n",
    "cbar = plt.colorbar(scatter, ax=ax)\n",
    "cbar.set_label('Sharpe Ratio')\n",
    "performance = ef.portfolio_performance()\n",
    "ax.scatter(performance[1], performance[0], marker='*', color='r', s=100, label='Max Sharpe')\n",
    "plt.title('Efficient Frontier with Random Portfolios')\n",
    "plt.xlabel('Volatility (Risk)')\n",
    "plt.ylabel('Expected Return')\n",
    "plt.show()"
   ]
  },
  {
   "cell_type": "code",
   "execution_count": null,
   "id": "4ba2f8b2",
   "metadata": {},
   "outputs": [],
   "source": []
  }
 ],
 "metadata": {
  "kernelspec": {
   "display_name": "Python 3 (ipykernel)",
   "language": "python",
   "name": "python3"
  },
  "language_info": {
   "codemirror_mode": {
    "name": "ipython",
    "version": 3
   },
   "file_extension": ".py",
   "mimetype": "text/x-python",
   "name": "python",
   "nbconvert_exporter": "python",
   "pygments_lexer": "ipython3",
   "version": "3.9.13"
  }
 },
 "nbformat": 4,
 "nbformat_minor": 5
}
