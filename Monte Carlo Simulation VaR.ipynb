{
 "cells": [
  {
   "cell_type": "code",
   "execution_count": 1,
   "id": "18815876",
   "metadata": {},
   "outputs": [],
   "source": [
    "import datetime as dt, numpy as np, pandas as pd, matplotlib.pyplot as plt, scipy.stats as scs"
   ]
  },
  {
   "cell_type": "code",
   "execution_count": 3,
   "id": "bcefe56b",
   "metadata": {},
   "outputs": [],
   "source": [
    "n_simulation = 100000\n",
    "rfr = 0\n",
    "time = 30\n",
    "std_dev = 0.25\n",
    "Stock_Price = 1"
   ]
  },
  {
   "cell_type": "code",
   "execution_count": 4,
   "id": "de582cd7",
   "metadata": {},
   "outputs": [],
   "source": [
    "d = (rfr - 0.5 * std_dev ** 2) * (time/252)\n",
    "a = std_dev * np.sqrt(time/252)\n",
    "r = np.random.normal(0, 1, (n_simulation,1))\n",
    "\n",
    "# dt is equal to time divided by the number of trading days, GBM is Geometric Brownian Motion\n",
    "\n",
    "GBM_Returns = Stock_Price * np.exp(d + a*r)"
   ]
  },
  {
   "cell_type": "code",
   "execution_count": 5,
   "id": "44610400",
   "metadata": {},
   "outputs": [
    {
     "data": {
      "text/plain": [
       "array([[ 1.41841066],\n",
       "       [ 0.86138205],\n",
       "       [-0.10006461],\n",
       "       ...,\n",
       "       [-0.92117224],\n",
       "       [ 1.22094764],\n",
       "       [-0.00353646]])"
      ]
     },
     "execution_count": 5,
     "metadata": {},
     "output_type": "execute_result"
    }
   ],
   "source": [
    "r"
   ]
  },
  {
   "cell_type": "code",
   "execution_count": 6,
   "id": "e71366a0",
   "metadata": {},
   "outputs": [
    {
     "data": {
      "text/plain": [
       "100000"
      ]
     },
     "execution_count": 6,
     "metadata": {},
     "output_type": "execute_result"
    }
   ],
   "source": [
    "len(r)"
   ]
  },
  {
   "cell_type": "code",
   "execution_count": 8,
   "id": "f4890489",
   "metadata": {},
   "outputs": [
    {
     "data": {
      "text/plain": [
       "array([[1.12595246],\n",
       "       [1.07313151],\n",
       "       [0.98772434],\n",
       "       ...,\n",
       "       [0.92018652],\n",
       "       [1.10693673],\n",
       "       [0.9959828 ]])"
      ]
     },
     "execution_count": 8,
     "metadata": {},
     "output_type": "execute_result"
    }
   ],
   "source": [
    "GBM_Returns"
   ]
  },
  {
   "cell_type": "code",
   "execution_count": 9,
   "id": "1d780d2d",
   "metadata": {},
   "outputs": [
    {
     "data": {
      "text/plain": [
       "100000"
      ]
     },
     "execution_count": 9,
     "metadata": {},
     "output_type": "execute_result"
    }
   ],
   "source": [
    "len(GBM_Returns)"
   ]
  },
  {
   "cell_type": "code",
   "execution_count": 11,
   "id": "1f20cc00",
   "metadata": {},
   "outputs": [
    {
     "data": {
      "text/plain": [
       "array([-0.28832105, -0.23853171, -0.18518822, -0.15937408, -0.13604171,\n",
       "       -0.10787621])"
      ]
     },
     "execution_count": 11,
     "metadata": {},
     "output_type": "execute_result"
    }
   ],
   "source": [
    "Confidence_Interval = [0.01, 0.1, 1.0, 2.5, 5.0, 10]\n",
    "var = scs.scoreatpercentile(GBM_Returns - 1, Confidence_Interval)\n",
    "var"
   ]
  },
  {
   "cell_type": "code",
   "execution_count": 13,
   "id": "3adedf15",
   "metadata": {},
   "outputs": [
    {
     "data": {
      "text/html": [
       "<div>\n",
       "<style scoped>\n",
       "    .dataframe tbody tr th:only-of-type {\n",
       "        vertical-align: middle;\n",
       "    }\n",
       "\n",
       "    .dataframe tbody tr th {\n",
       "        vertical-align: top;\n",
       "    }\n",
       "\n",
       "    .dataframe thead th {\n",
       "        text-align: right;\n",
       "    }\n",
       "</style>\n",
       "<table border=\"1\" class=\"dataframe\">\n",
       "  <thead>\n",
       "    <tr style=\"text-align: right;\">\n",
       "      <th></th>\n",
       "      <th>var</th>\n",
       "    </tr>\n",
       "  </thead>\n",
       "  <tbody>\n",
       "    <tr>\n",
       "      <th>0.01</th>\n",
       "      <td>-0.288321</td>\n",
       "    </tr>\n",
       "    <tr>\n",
       "      <th>0.10</th>\n",
       "      <td>-0.238532</td>\n",
       "    </tr>\n",
       "    <tr>\n",
       "      <th>1.00</th>\n",
       "      <td>-0.185188</td>\n",
       "    </tr>\n",
       "    <tr>\n",
       "      <th>2.50</th>\n",
       "      <td>-0.159374</td>\n",
       "    </tr>\n",
       "    <tr>\n",
       "      <th>5.00</th>\n",
       "      <td>-0.136042</td>\n",
       "    </tr>\n",
       "    <tr>\n",
       "      <th>10.00</th>\n",
       "      <td>-0.107876</td>\n",
       "    </tr>\n",
       "  </tbody>\n",
       "</table>\n",
       "</div>"
      ],
      "text/plain": [
       "            var\n",
       "0.01  -0.288321\n",
       "0.10  -0.238532\n",
       "1.00  -0.185188\n",
       "2.50  -0.159374\n",
       "5.00  -0.136042\n",
       "10.00 -0.107876"
      ]
     },
     "execution_count": 13,
     "metadata": {},
     "output_type": "execute_result"
    }
   ],
   "source": [
    "df = pd.DataFrame(var, Confidence_Interval, columns = ['var'])\n",
    "df"
   ]
  },
  {
   "cell_type": "code",
   "execution_count": 20,
   "id": "a6b8d0b5",
   "metadata": {},
   "outputs": [
    {
     "data": {
      "image/png": "[encoded data removed]",
      "text/plain": [
       "<Figure size 640x480 with 1 Axes>"
      ]
     },
     "metadata": {},
     "output_type": "display_data"
    }
   ],
   "source": [
    "plt.hist(GBM_Returns, density = True, bins = 100)\n",
    "\n",
    "plt.axvline(df.loc[0.01]['var'] + 1, color = 'red', linestyle = 'dashed', linewidth = 2)\n",
    "plt.axvline(df.loc[0.1]['var'] + 1, color = 'yellow', linestyle = 'dashed', linewidth = 2)\n",
    "plt.axvline(df.loc[1.0]['var'] + 1, color = 'green', linestyle = 'dashed', linewidth = 2)\n",
    "plt.axvline(df.loc[2.5]['var'] + 1, color = 'pink', linestyle = 'dashed', linewidth = 2)\n",
    "plt.axvline(df.loc[5.0]['var'] + 1, color = 'blue', linestyle = 'dashed', linewidth = 2)\n",
    "plt.axvline(df.loc[10.0]['var'] + 1, color = 'orange', linestyle = 'dashed', linewidth = 2)\n",
    "\n",
    "plt.ylabel('Frequency')\n",
    "plt.xlabel('Daily_Return')\n",
    "plt.grid(True, linewidth = 0.5)\n",
    "\n",
    "plt.show()"
   ]
  }
 ],
 "metadata": {
  "kernelspec": {
   "display_name": "Python 3 (ipykernel)",
   "language": "python",
   "name": "python3"
  },
  "language_info": {
   "codemirror_mode": {
    "name": "ipython",
    "version": 3
   },
   "file_extension": ".py",
   "mimetype": "text/x-python",
   "name": "python",
   "nbconvert_exporter": "python",
   "pygments_lexer": "ipython3",
   "version": "3.11.5"
  }
 },
 "nbformat": 4,
 "nbformat_minor": 5
}
