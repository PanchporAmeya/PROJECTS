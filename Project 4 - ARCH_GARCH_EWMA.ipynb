{
 "cells": [
  {
   "cell_type": "code",
   "execution_count": 85,
   "id": "e2bf97bc-bcd4-4621-8c44-80b984e675b7",
   "metadata": {},
   "outputs": [],
   "source": [
    "import pandas as pd\n",
    "import yfinance as yf\n",
    "import numpy as np"
   ]
  },
  {
   "cell_type": "code",
   "execution_count": 86,
   "id": "663ad419-3a2b-484d-87be-737b7c723bf1",
   "metadata": {},
   "outputs": [
    {
     "name": "stderr",
     "output_type": "stream",
     "text": [
      "[*********************100%***********************]  1 of 1 completed\n"
     ]
    },
    {
     "data": {
      "text/html": [
       "<div>\n",
       "<style scoped>\n",
       "    .dataframe tbody tr th:only-of-type {\n",
       "        vertical-align: middle;\n",
       "    }\n",
       "\n",
       "    .dataframe tbody tr th {\n",
       "        vertical-align: top;\n",
       "    }\n",
       "\n",
       "    .dataframe thead th {\n",
       "        text-align: right;\n",
       "    }\n",
       "</style>\n",
       "<table border=\"1\" class=\"dataframe\">\n",
       "  <thead>\n",
       "    <tr style=\"text-align: right;\">\n",
       "      <th>Ticker</th>\n",
       "      <th>TCS.NS</th>\n",
       "    </tr>\n",
       "    <tr>\n",
       "      <th>Date</th>\n",
       "      <th></th>\n",
       "    </tr>\n",
       "  </thead>\n",
       "  <tbody>\n",
       "    <tr>\n",
       "      <th>2020-01-01</th>\n",
       "      <td>1944.476929</td>\n",
       "    </tr>\n",
       "    <tr>\n",
       "      <th>2020-01-02</th>\n",
       "      <td>1935.550659</td>\n",
       "    </tr>\n",
       "    <tr>\n",
       "      <th>2020-01-03</th>\n",
       "      <td>1974.124756</td>\n",
       "    </tr>\n",
       "    <tr>\n",
       "      <th>2020-01-06</th>\n",
       "      <td>1973.945312</td>\n",
       "    </tr>\n",
       "    <tr>\n",
       "      <th>2020-01-07</th>\n",
       "      <td>1978.789185</td>\n",
       "    </tr>\n",
       "    <tr>\n",
       "      <th>...</th>\n",
       "      <td>...</td>\n",
       "    </tr>\n",
       "    <tr>\n",
       "      <th>2024-12-23</th>\n",
       "      <td>4093.052979</td>\n",
       "    </tr>\n",
       "    <tr>\n",
       "      <th>2024-12-24</th>\n",
       "      <td>4113.920410</td>\n",
       "    </tr>\n",
       "    <tr>\n",
       "      <th>2024-12-26</th>\n",
       "      <td>4103.683594</td>\n",
       "    </tr>\n",
       "    <tr>\n",
       "      <th>2024-12-27</th>\n",
       "      <td>4099.500488</td>\n",
       "    </tr>\n",
       "    <tr>\n",
       "      <th>2024-12-30</th>\n",
       "      <td>4093.545166</td>\n",
       "    </tr>\n",
       "  </tbody>\n",
       "</table>\n",
       "<p>1237 rows × 1 columns</p>\n",
       "</div>"
      ],
      "text/plain": [
       "Ticker           TCS.NS\n",
       "Date                   \n",
       "2020-01-01  1944.476929\n",
       "2020-01-02  1935.550659\n",
       "2020-01-03  1974.124756\n",
       "2020-01-06  1973.945312\n",
       "2020-01-07  1978.789185\n",
       "...                 ...\n",
       "2024-12-23  4093.052979\n",
       "2024-12-24  4113.920410\n",
       "2024-12-26  4103.683594\n",
       "2024-12-27  4099.500488\n",
       "2024-12-30  4093.545166\n",
       "\n",
       "[1237 rows x 1 columns]"
      ]
     },
     "execution_count": 86,
     "metadata": {},
     "output_type": "execute_result"
    }
   ],
   "source": [
    "symbol = 'TCS.NS'\n",
    "df = yf.download(symbol, start = '2020-01-01', end = '2024-12-31')['Close']\n",
    "df"
   ]
  },
  {
   "cell_type": "code",
   "execution_count": 87,
   "id": "872ef767-1f49-49a4-b76e-06a17a1f2c97",
   "metadata": {},
   "outputs": [],
   "source": [
    "from arch import arch_model"
   ]
  },
  {
   "cell_type": "code",
   "execution_count": 88,
   "id": "e9402a7f-5dd2-4dae-9ef8-cfa4e26f85b9",
   "metadata": {},
   "outputs": [],
   "source": [
    "df['returns'] = df['TCS.NS'].pct_change() * 100\n",
    "returns = df['returns'].dropna()"
   ]
  },
  {
   "cell_type": "code",
   "execution_count": 89,
   "id": "8d167092-b6f1-447b-a36b-dd80eb07d61c",
   "metadata": {},
   "outputs": [
    {
     "data": {
      "text/plain": [
       "<bound method ARCHModelResult.summary of                       Constant Mean - ARCH Model Results                      \n",
       "==============================================================================\n",
       "Dep. Variable:                returns   R-squared:                       0.000\n",
       "Mean Model:             Constant Mean   Adj. R-squared:                  0.000\n",
       "Vol Model:                       ARCH   Log-Likelihood:               -2268.47\n",
       "Distribution:                  Normal   AIC:                           4542.93\n",
       "Method:            Maximum Likelihood   BIC:                           4558.29\n",
       "                                        No. Observations:                 1236\n",
       "Date:                Mon, Jun 02 2025   Df Residuals:                     1235\n",
       "Time:                        12:09:25   Df Model:                            1\n",
       "                                 Mean Model                                \n",
       "===========================================================================\n",
       "                 coef    std err          t      P>|t|     95.0% Conf. Int.\n",
       "---------------------------------------------------------------------------\n",
       "mu             0.0686  4.252e-02      1.613      0.107 [-1.475e-02,  0.152]\n",
       "                             Volatility Model                             \n",
       "==========================================================================\n",
       "                 coef    std err          t      P>|t|    95.0% Conf. Int.\n",
       "--------------------------------------------------------------------------\n",
       "omega          2.0213      0.206      9.814  9.798e-23   [  1.618,  2.425]\n",
       "alpha[1]       0.1538  7.161e-02      2.148  3.171e-02 [1.347e-02,  0.294]\n",
       "==========================================================================\n",
       "\n",
       "Covariance estimator: robust\n",
       "ARCHModelResult, id: 0x21892cf85c0>"
      ]
     },
     "execution_count": 89,
     "metadata": {},
     "output_type": "execute_result"
    }
   ],
   "source": [
    "model = arch_model(returns, vol = 'ARCH', p=1)\n",
    "results = model.fit(disp = 'off')\n",
    "results.summary"
   ]
  },
  {
   "cell_type": "code",
   "execution_count": 90,
   "id": "f28d6ff4-4aa9-42ca-8225-86f9fb5bb01b",
   "metadata": {},
   "outputs": [],
   "source": [
    "# Analysis of ARCH Model\n",
    "# mu---> 0.0686 : The model estimates that the average daily return is.\n",
    "# omega---> 2.0213 : The long level base level of variance\n",
    "# alpha[1]---> 0.1538 : How much yesterday's squared shock impacts today's variance"
   ]
  },
  {
   "cell_type": "code",
   "execution_count": 91,
   "id": "d645296c-7619-44c1-8306-deaaf5c79248",
   "metadata": {},
   "outputs": [
    {
     "data": {
      "text/html": [
       "<div>\n",
       "<style scoped>\n",
       "    .dataframe tbody tr th:only-of-type {\n",
       "        vertical-align: middle;\n",
       "    }\n",
       "\n",
       "    .dataframe tbody tr th {\n",
       "        vertical-align: top;\n",
       "    }\n",
       "\n",
       "    .dataframe thead th {\n",
       "        text-align: right;\n",
       "    }\n",
       "</style>\n",
       "<table border=\"1\" class=\"dataframe\">\n",
       "  <thead>\n",
       "    <tr style=\"text-align: right;\">\n",
       "      <th></th>\n",
       "      <th>h.1</th>\n",
       "      <th>h.2</th>\n",
       "      <th>h.3</th>\n",
       "      <th>h.4</th>\n",
       "      <th>h.5</th>\n",
       "    </tr>\n",
       "    <tr>\n",
       "      <th>Date</th>\n",
       "      <th></th>\n",
       "      <th></th>\n",
       "      <th></th>\n",
       "      <th></th>\n",
       "      <th></th>\n",
       "    </tr>\n",
       "  </thead>\n",
       "  <tbody>\n",
       "    <tr>\n",
       "      <th>2024-12-30</th>\n",
       "      <td>1.424208</td>\n",
       "      <td>1.527529</td>\n",
       "      <td>1.542809</td>\n",
       "      <td>1.545146</td>\n",
       "      <td>1.545505</td>\n",
       "    </tr>\n",
       "  </tbody>\n",
       "</table>\n",
       "</div>"
      ],
      "text/plain": [
       "                 h.1       h.2       h.3       h.4       h.5\n",
       "Date                                                        \n",
       "2024-12-30  1.424208  1.527529  1.542809  1.545146  1.545505"
      ]
     },
     "execution_count": 91,
     "metadata": {},
     "output_type": "execute_result"
    }
   ],
   "source": [
    "forecast = results.forecast(horizon = 5)\n",
    "predicted_variance = forecast.variance\n",
    "predicted_volatility = predicted_variance ** 0.5\n",
    "predicted_volatility"
   ]
  },
  {
   "cell_type": "code",
   "execution_count": 92,
   "id": "59ea02c2-49b2-4c52-ad64-0b4a9f9323ad",
   "metadata": {},
   "outputs": [
    {
     "data": {
      "text/plain": [
       "1.5479593999999999"
      ]
     },
     "execution_count": 92,
     "metadata": {},
     "output_type": "execute_result"
    }
   ],
   "source": [
    "predicted_volatility = [1.555161, 1.547184, 1.545953, 1.545764, 1.545735]\n",
    "predicted_avg = sum(predicted_volatility)/len(predicted_volatility)\n",
    "predicted_avg"
   ]
  },
  {
   "cell_type": "code",
   "execution_count": 93,
   "id": "0c46f08a-f217-4f82-9faf-2e068debabd6",
   "metadata": {},
   "outputs": [
    {
     "name": "stderr",
     "output_type": "stream",
     "text": [
      "[*********************100%***********************]  1 of 1 completed\n"
     ]
    },
    {
     "data": {
      "text/html": [
       "<div>\n",
       "<style scoped>\n",
       "    .dataframe tbody tr th:only-of-type {\n",
       "        vertical-align: middle;\n",
       "    }\n",
       "\n",
       "    .dataframe tbody tr th {\n",
       "        vertical-align: top;\n",
       "    }\n",
       "\n",
       "    .dataframe thead th {\n",
       "        text-align: right;\n",
       "    }\n",
       "</style>\n",
       "<table border=\"1\" class=\"dataframe\">\n",
       "  <thead>\n",
       "    <tr style=\"text-align: right;\">\n",
       "      <th>Ticker</th>\n",
       "      <th>TCS.NS</th>\n",
       "      <th>returns</th>\n",
       "    </tr>\n",
       "    <tr>\n",
       "      <th>Date</th>\n",
       "      <th></th>\n",
       "      <th></th>\n",
       "    </tr>\n",
       "  </thead>\n",
       "  <tbody>\n",
       "    <tr>\n",
       "      <th>2025-01-01</th>\n",
       "      <td>4047.922852</td>\n",
       "      <td>0.431040</td>\n",
       "    </tr>\n",
       "    <tr>\n",
       "      <th>2025-01-02</th>\n",
       "      <td>4110.229492</td>\n",
       "      <td>1.539225</td>\n",
       "    </tr>\n",
       "    <tr>\n",
       "      <th>2025-01-03</th>\n",
       "      <td>4035.569336</td>\n",
       "      <td>-1.816447</td>\n",
       "    </tr>\n",
       "    <tr>\n",
       "      <th>2025-01-06</th>\n",
       "      <td>4030.746338</td>\n",
       "      <td>-0.119512</td>\n",
       "    </tr>\n",
       "    <tr>\n",
       "      <th>2025-01-07</th>\n",
       "      <td>3965.093018</td>\n",
       "      <td>-1.628813</td>\n",
       "    </tr>\n",
       "  </tbody>\n",
       "</table>\n",
       "</div>"
      ],
      "text/plain": [
       "Ticker           TCS.NS   returns\n",
       "Date                             \n",
       "2025-01-01  4047.922852  0.431040\n",
       "2025-01-02  4110.229492  1.539225\n",
       "2025-01-03  4035.569336 -1.816447\n",
       "2025-01-06  4030.746338 -0.119512\n",
       "2025-01-07  3965.093018 -1.628813"
      ]
     },
     "execution_count": 93,
     "metadata": {},
     "output_type": "execute_result"
    }
   ],
   "source": [
    "real_df = yf.download('TCS.NS', start = '2024-12-31', end = '2025-01-08')['Close']\n",
    "real_df['returns'] = real_df.pct_change() * 100\n",
    "real_df = real_df.dropna()\n",
    "real_df"
   ]
  },
  {
   "cell_type": "code",
   "execution_count": 94,
   "id": "11aa7570-43df-4123-974d-fde733f21baa",
   "metadata": {},
   "outputs": [
    {
     "data": {
      "text/plain": [
       "1.41538993253752"
      ]
     },
     "execution_count": 94,
     "metadata": {},
     "output_type": "execute_result"
    }
   ],
   "source": [
    "realized_vol = real_df['returns'].std()\n",
    "realized_vol"
   ]
  },
  {
   "cell_type": "code",
   "execution_count": 95,
   "id": "eb2f07bc-471d-4d19-8c7f-1063c18b038b",
   "metadata": {},
   "outputs": [
    {
     "name": "stdout",
     "output_type": "stream",
     "text": [
      "ARCH Predicted Volatility: 1.5479593999999999\n",
      "ARCH Actual Volatility: 1.41538993253752\n"
     ]
    }
   ],
   "source": [
    "print(\"ARCH Predicted Volatility:\", predicted_avg)\n",
    "print(\"ARCH Actual Volatility:\", realized_vol)"
   ]
  },
  {
   "cell_type": "code",
   "execution_count": 103,
   "id": "1720dcce-771d-49e2-8063-da922b7eb852",
   "metadata": {},
   "outputs": [
    {
     "data": {
      "text/html": [
       "<table class=\"simpletable\">\n",
       "<caption>Constant Mean - GARCH Model Results</caption>\n",
       "<tr>\n",
       "  <th>Dep. Variable:</th>       <td>returns</td>      <th>  R-squared:         </th>  <td>   0.000</td> \n",
       "</tr>\n",
       "<tr>\n",
       "  <th>Mean Model:</th>       <td>Constant Mean</td>   <th>  Adj. R-squared:    </th>  <td>   0.000</td> \n",
       "</tr>\n",
       "<tr>\n",
       "  <th>Vol Model:</th>            <td>GARCH</td>       <th>  Log-Likelihood:    </th> <td>  -2200.91</td>\n",
       "</tr>\n",
       "<tr>\n",
       "  <th>Distribution:</th>        <td>Normal</td>       <th>  AIC:               </th> <td>   4409.81</td>\n",
       "</tr>\n",
       "<tr>\n",
       "  <th>Method:</th>        <td>Maximum Likelihood</td> <th>  BIC:               </th> <td>   4430.29</td>\n",
       "</tr>\n",
       "<tr>\n",
       "  <th></th>                        <td></td>          <th>  No. Observations:  </th>    <td>1236</td>   \n",
       "</tr>\n",
       "<tr>\n",
       "  <th>Date:</th>           <td>Mon, Jun 02 2025</td>  <th>  Df Residuals:      </th>    <td>1235</td>   \n",
       "</tr>\n",
       "<tr>\n",
       "  <th>Time:</th>               <td>12:10:31</td>      <th>  Df Model:          </th>      <td>1</td>    \n",
       "</tr>\n",
       "</table>\n",
       "<table class=\"simpletable\">\n",
       "<caption>Mean Model</caption>\n",
       "<tr>\n",
       "   <td></td>     <th>coef</th>     <th>std err</th>      <th>t</th>       <th>P>|t|</th>     <th>95.0% Conf. Int.</th>  \n",
       "</tr>\n",
       "<tr>\n",
       "  <th>mu</th> <td>    0.0697</td> <td>3.895e-02</td> <td>    1.789</td> <td>7.364e-02</td> <td>[-6.666e-03,  0.146]</td>\n",
       "</tr>\n",
       "</table>\n",
       "<table class=\"simpletable\">\n",
       "<caption>Volatility Model</caption>\n",
       "<tr>\n",
       "      <td></td>        <th>coef</th>     <th>std err</th>      <th>t</th>       <th>P>|t|</th>    <th>95.0% Conf. Int.</th>  \n",
       "</tr>\n",
       "<tr>\n",
       "  <th>omega</th>    <td>    0.1458</td> <td>6.619e-02</td> <td>    2.202</td> <td>2.764e-02</td> <td>[1.604e-02,  0.276]</td>\n",
       "</tr>\n",
       "<tr>\n",
       "  <th>alpha[1]</th> <td>    0.0779</td> <td>3.255e-02</td> <td>    2.394</td> <td>1.667e-02</td> <td>[1.413e-02,  0.142]</td>\n",
       "</tr>\n",
       "<tr>\n",
       "  <th>beta[1]</th>  <td>    0.8562</td> <td>5.346e-02</td> <td>   16.015</td> <td>1.009e-57</td>  <td>[  0.751,  0.961]</td> \n",
       "</tr>\n",
       "</table><br/><br/>Covariance estimator: robust"
      ],
      "text/latex": [
       "\\begin{center}\n",
       "\\begin{tabular}{lclc}\n",
       "\\toprule\n",
       "\\textbf{Dep. Variable:} &      returns       & \\textbf{  R-squared:         } &     0.000   \\\\\n",
       "\\textbf{Mean Model:}    &   Constant Mean    & \\textbf{  Adj. R-squared:    } &     0.000   \\\\\n",
       "\\textbf{Vol Model:}     &       GARCH        & \\textbf{  Log-Likelihood:    } &   -2200.91  \\\\\n",
       "\\textbf{Distribution:}  &       Normal       & \\textbf{  AIC:               } &    4409.81  \\\\\n",
       "\\textbf{Method:}        & Maximum Likelihood & \\textbf{  BIC:               } &    4430.29  \\\\\n",
       "\\textbf{}               &                    & \\textbf{  No. Observations:  } &    1236     \\\\\n",
       "\\textbf{Date:}          &  Mon, Jun 02 2025  & \\textbf{  Df Residuals:      } &    1235     \\\\\n",
       "\\textbf{Time:}          &      12:10:31      & \\textbf{  Df Model:          } &     1       \\\\\n",
       "\\bottomrule\n",
       "\\end{tabular}\n",
       "\\begin{tabular}{lccccc}\n",
       "            & \\textbf{coef} & \\textbf{std err} & \\textbf{t} & \\textbf{P$> |$t$|$} & \\textbf{95.0\\% Conf. Int.}  \\\\\n",
       "\\midrule\n",
       "\\textbf{mu} &       0.0697  &    3.895e-02     &     1.789  &      7.364e-02       &    [-6.666e-03,  0.146]     \\\\\n",
       "                  & \\textbf{coef} & \\textbf{std err} & \\textbf{t} & \\textbf{P$> |$t$|$} & \\textbf{95.0\\% Conf. Int.}  \\\\\n",
       "\\midrule\n",
       "\\textbf{omega}    &       0.1458  &    6.619e-02     &     2.202  &      2.764e-02       &    [1.604e-02,  0.276]      \\\\\n",
       "\\textbf{alpha[1]} &       0.0779  &    3.255e-02     &     2.394  &      1.667e-02       &    [1.413e-02,  0.142]      \\\\\n",
       "\\textbf{beta[1]}  &       0.8562  &    5.346e-02     &    16.015  &      1.009e-57       &     [  0.751,  0.961]       \\\\\n",
       "\\bottomrule\n",
       "\\end{tabular}\n",
       "%\\caption{Constant Mean - GARCH Model Results}\n",
       "\\end{center}\n",
       "\n",
       "Covariance estimator: robust"
      ],
      "text/plain": [
       "<class 'statsmodels.iolib.summary.Summary'>\n",
       "\"\"\"\n",
       "                     Constant Mean - GARCH Model Results                      \n",
       "==============================================================================\n",
       "Dep. Variable:                returns   R-squared:                       0.000\n",
       "Mean Model:             Constant Mean   Adj. R-squared:                  0.000\n",
       "Vol Model:                      GARCH   Log-Likelihood:               -2200.91\n",
       "Distribution:                  Normal   AIC:                           4409.81\n",
       "Method:            Maximum Likelihood   BIC:                           4430.29\n",
       "                                        No. Observations:                 1236\n",
       "Date:                Mon, Jun 02 2025   Df Residuals:                     1235\n",
       "Time:                        12:10:31   Df Model:                            1\n",
       "                                 Mean Model                                \n",
       "===========================================================================\n",
       "                 coef    std err          t      P>|t|     95.0% Conf. Int.\n",
       "---------------------------------------------------------------------------\n",
       "mu             0.0697  3.895e-02      1.789  7.364e-02 [-6.666e-03,  0.146]\n",
       "                             Volatility Model                             \n",
       "==========================================================================\n",
       "                 coef    std err          t      P>|t|    95.0% Conf. Int.\n",
       "--------------------------------------------------------------------------\n",
       "omega          0.1458  6.619e-02      2.202  2.764e-02 [1.604e-02,  0.276]\n",
       "alpha[1]       0.0779  3.255e-02      2.394  1.667e-02 [1.413e-02,  0.142]\n",
       "beta[1]        0.8562  5.346e-02     16.015  1.009e-57   [  0.751,  0.961]\n",
       "==========================================================================\n",
       "\n",
       "Covariance estimator: robust\n",
       "\"\"\""
      ]
     },
     "execution_count": 103,
     "metadata": {},
     "output_type": "execute_result"
    }
   ],
   "source": [
    "model_1 = arch_model(returns, vol = 'GARCH', p=1, q=1)\n",
    "results_1 = model.fit(disp = 'off')\n",
    "results_1.summary()"
   ]
  },
  {
   "cell_type": "code",
   "execution_count": 104,
   "id": "141141f4-6c51-4884-8b57-e9854b9dcc37",
   "metadata": {},
   "outputs": [],
   "source": [
    "# Analysis of GARCH Model\n",
    "# mu---> 0.0697 : The model estimates that the average daily return is.\n",
    "# omega---> 0.1458 : The long level base level of variance\n",
    "# alpha[1]---> 0.0779 : How much yesterday's squared shock impacts today's variance\n",
    "# beta[1]---> 0.8562 : How much yesterday's variance impact today's variance"
   ]
  },
  {
   "cell_type": "code",
   "execution_count": 105,
   "id": "e754d04b-a8b5-4b69-8c89-590fbb05fa4f",
   "metadata": {},
   "outputs": [
    {
     "data": {
      "text/html": [
       "<div>\n",
       "<style scoped>\n",
       "    .dataframe tbody tr th:only-of-type {\n",
       "        vertical-align: middle;\n",
       "    }\n",
       "\n",
       "    .dataframe tbody tr th {\n",
       "        vertical-align: top;\n",
       "    }\n",
       "\n",
       "    .dataframe thead th {\n",
       "        text-align: right;\n",
       "    }\n",
       "</style>\n",
       "<table border=\"1\" class=\"dataframe\">\n",
       "  <thead>\n",
       "    <tr style=\"text-align: right;\">\n",
       "      <th></th>\n",
       "      <th>h.1</th>\n",
       "      <th>h.2</th>\n",
       "      <th>h.3</th>\n",
       "      <th>h.4</th>\n",
       "      <th>h.5</th>\n",
       "    </tr>\n",
       "    <tr>\n",
       "      <th>Date</th>\n",
       "      <th></th>\n",
       "      <th></th>\n",
       "      <th></th>\n",
       "      <th></th>\n",
       "      <th></th>\n",
       "    </tr>\n",
       "  </thead>\n",
       "  <tbody>\n",
       "    <tr>\n",
       "      <th>2024-12-30</th>\n",
       "      <td>1.271822</td>\n",
       "      <td>1.287125</td>\n",
       "      <td>1.301257</td>\n",
       "      <td>1.314321</td>\n",
       "      <td>1.326407</td>\n",
       "    </tr>\n",
       "  </tbody>\n",
       "</table>\n",
       "</div>"
      ],
      "text/plain": [
       "                 h.1       h.2       h.3       h.4       h.5\n",
       "Date                                                        \n",
       "2024-12-30  1.271822  1.287125  1.301257  1.314321  1.326407"
      ]
     },
     "execution_count": 105,
     "metadata": {},
     "output_type": "execute_result"
    }
   ],
   "source": [
    "forecast_1 = results_1.forecast(horizon = 5)\n",
    "predicted_variance_1 = forecast_1.variance\n",
    "predicted_volatility_1 = predicted_variance_1 ** 0.5\n",
    "predicted_volatility_1"
   ]
  },
  {
   "cell_type": "code",
   "execution_count": 106,
   "id": "9307cd72-be09-4df3-81d5-24f00656c26a",
   "metadata": {},
   "outputs": [
    {
     "data": {
      "text/plain": [
       "1.3001864"
      ]
     },
     "execution_count": 106,
     "metadata": {},
     "output_type": "execute_result"
    }
   ],
   "source": [
    "predicted_volatility_1 = [1.271822,1.287125,1.301257,1.314321,1.326407]\n",
    "predicted_avg_1 = sum(predicted_volatility_1)/len(predicted_volatility_1)\n",
    "predicted_avg_1"
   ]
  },
  {
   "cell_type": "code",
   "execution_count": 107,
   "id": "3e4eee20-7594-47ca-ad85-849ffbdb78ad",
   "metadata": {},
   "outputs": [
    {
     "data": {
      "text/plain": [
       "1.41538993253752"
      ]
     },
     "execution_count": 107,
     "metadata": {},
     "output_type": "execute_result"
    }
   ],
   "source": [
    "realized_vol"
   ]
  },
  {
   "cell_type": "code",
   "execution_count": 108,
   "id": "c4d934e6-3d61-4cb0-bd6f-6fa38f288687",
   "metadata": {},
   "outputs": [
    {
     "name": "stdout",
     "output_type": "stream",
     "text": [
      "GARCH Predicted Volatility: 1.3001864\n",
      "GARCH Actual Volatility: 1.41538993253752\n"
     ]
    }
   ],
   "source": [
    "print(\"GARCH Predicted Volatility:\", predicted_avg_1)\n",
    "print(\"GARCH Actual Volatility:\", realized_vol)"
   ]
  },
  {
   "cell_type": "code",
   "execution_count": 110,
   "id": "f72b5fe9-375c-48ac-a708-bfda5e738ec3",
   "metadata": {},
   "outputs": [],
   "source": [
    "lamda = 0.94"
   ]
  },
  {
   "cell_type": "code",
   "execution_count": 111,
   "id": "61f1448c-cc83-4ec2-aca8-329a4ccc2d40",
   "metadata": {},
   "outputs": [],
   "source": [
    "ewma_var = []\n",
    "var_t = df['returns'].var()"
   ]
  },
  {
   "cell_type": "code",
   "execution_count": 112,
   "id": "0e9c121e-7e8f-4140-b47b-b31c2211ea48",
   "metadata": {},
   "outputs": [],
   "source": [
    "for ret in df['returns']:\n",
    "    variance_tplus1 = lamda * var_t + (1-lamda) * (ret**2)\n",
    "    ewma_var.append(variance_tplus1)"
   ]
  },
  {
   "cell_type": "code",
   "execution_count": 113,
   "id": "db03fd0e-fa56-4600-a0de-97d0afdc9d5a",
   "metadata": {},
   "outputs": [],
   "source": [
    "df['ewma_vol'] = np.sqrt(ewma_var)"
   ]
  },
  {
   "cell_type": "code",
   "execution_count": 114,
   "id": "9544f22d-fc1c-478e-a4ec-b30ed050a0dc",
   "metadata": {},
   "outputs": [
    {
     "data": {
      "text/plain": [
       "1.4945586687558257"
      ]
     },
     "execution_count": 114,
     "metadata": {},
     "output_type": "execute_result"
    }
   ],
   "source": [
    "latest_daily_vol = df['ewma_vol'].iloc[-1]\n",
    "latest_daily_vol"
   ]
  },
  {
   "cell_type": "code",
   "execution_count": 124,
   "id": "896ef4f7-ad68-42d3-9a96-eeea9c9db813",
   "metadata": {},
   "outputs": [
    {
     "name": "stderr",
     "output_type": "stream",
     "text": [
      "[*********************100%***********************]  1 of 1 completed\n"
     ]
    },
    {
     "data": {
      "text/plain": [
       "Date\n",
       "2025-01-02    1.539225\n",
       "Name: returns, dtype: float64"
      ]
     },
     "execution_count": 124,
     "metadata": {},
     "output_type": "execute_result"
    }
   ],
   "source": [
    "real_ewma = yf.download('TCS.NS', start = '2025-01-01', end = '2025-01-03')\n",
    "real_ewma['returns'] = real_ewma['Close'].pct_change()*100\n",
    "real_ewma = real_ewma.dropna()\n",
    "real_vol = real_ewma['returns']\n",
    "real_vol"
   ]
  },
  {
   "cell_type": "code",
   "execution_count": 128,
   "id": "273a41e6-edff-4ee7-9f77-8e2b4e731724",
   "metadata": {},
   "outputs": [
    {
     "name": "stdout",
     "output_type": "stream",
     "text": [
      "EWMA Model: 1.4945586687558257\n",
      "EWMA Actual: Date\n",
      "2025-01-02    1.539225\n",
      "Name: returns, dtype: float64\n"
     ]
    }
   ],
   "source": [
    "print(\"EWMA Model:\", latest_daily_vol)\n",
    "print(\"EWMA Actual:\", real_vol)"
   ]
  }
 ],
 "metadata": {
  "kernelspec": {
   "display_name": "Python 3 (ipykernel)",
   "language": "python",
   "name": "python3"
  },
  "language_info": {
   "codemirror_mode": {
    "name": "ipython",
    "version": 3
   },
   "file_extension": ".py",
   "mimetype": "text/x-python",
   "name": "python",
   "nbconvert_exporter": "python",
   "pygments_lexer": "ipython3",
   "version": "3.12.7"
  }
 },
 "nbformat": 4,
 "nbformat_minor": 5
}
