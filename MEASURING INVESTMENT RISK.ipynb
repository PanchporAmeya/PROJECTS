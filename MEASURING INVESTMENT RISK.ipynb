{
 "cells": [
  {
   "cell_type": "code",
   "execution_count": 1,
   "id": "f70afad1",
   "metadata": {},
   "outputs": [],
   "source": [
    "import numpy as np\n",
    "import pandas as pd\n",
    "import matplotlib.pyplot as plt\n",
    "import yfinance as yf"
   ]
  },
  {
   "cell_type": "code",
   "execution_count": 4,
   "id": "7dfe5259",
   "metadata": {},
   "outputs": [
    {
     "name": "stdout",
     "output_type": "stream",
     "text": [
      "[*********************100%%**********************]  1 of 1 completed\n",
      "[*********************100%%**********************]  1 of 1 completed\n",
      "[*********************100%%**********************]  1 of 1 completed\n",
      "[*********************100%%**********************]  1 of 1 completed\n",
      "[*********************100%%**********************]  1 of 1 completed\n"
     ]
    }
   ],
   "source": [
    "tickers = [\"TCS.BO\",\"RELIANCE.BO\",\"SBIN.BO\",\"MRF.BO\",\"ITC.BO\"]\n",
    "\n",
    "data = pd.DataFrame()\n",
    "\n",
    "for i in tickers:\n",
    "    data[i] = yf.download(i, start = \"2015-01-01\")['Adj Close']"
   ]
  },
  {
   "cell_type": "code",
   "execution_count": 5,
   "id": "1d370de0",
   "metadata": {},
   "outputs": [
    {
     "data": {
      "text/html": [
       "<div>\n",
       "<style scoped>\n",
       "    .dataframe tbody tr th:only-of-type {\n",
       "        vertical-align: middle;\n",
       "    }\n",
       "\n",
       "    .dataframe tbody tr th {\n",
       "        vertical-align: top;\n",
       "    }\n",
       "\n",
       "    .dataframe thead th {\n",
       "        text-align: right;\n",
       "    }\n",
       "</style>\n",
       "<table border=\"1\" class=\"dataframe\">\n",
       "  <thead>\n",
       "    <tr style=\"text-align: right;\">\n",
       "      <th></th>\n",
       "      <th>TCS.BO</th>\n",
       "      <th>RELIANCE.BO</th>\n",
       "      <th>SBIN.BO</th>\n",
       "      <th>MRF.BO</th>\n",
       "      <th>ITC.BO</th>\n",
       "    </tr>\n",
       "    <tr>\n",
       "      <th>Date</th>\n",
       "      <th></th>\n",
       "      <th></th>\n",
       "      <th></th>\n",
       "      <th></th>\n",
       "      <th></th>\n",
       "    </tr>\n",
       "  </thead>\n",
       "  <tbody>\n",
       "    <tr>\n",
       "      <th>2015-01-01</th>\n",
       "      <td>1080.228027</td>\n",
       "      <td>415.979248</td>\n",
       "      <td>300.182526</td>\n",
       "      <td>37723.796875</td>\n",
       "      <td>225.672287</td>\n",
       "    </tr>\n",
       "    <tr>\n",
       "      <th>2015-01-02</th>\n",
       "      <td>1089.829834</td>\n",
       "      <td>414.831604</td>\n",
       "      <td>301.425507</td>\n",
       "      <td>37908.351562</td>\n",
       "      <td>226.410080</td>\n",
       "    </tr>\n",
       "    <tr>\n",
       "      <th>2015-01-05</th>\n",
       "      <td>1075.861450</td>\n",
       "      <td>410.850037</td>\n",
       "      <td>298.891693</td>\n",
       "      <td>38215.394531</td>\n",
       "      <td>227.363068</td>\n",
       "    </tr>\n",
       "    <tr>\n",
       "      <th>2015-01-06</th>\n",
       "      <td>1037.136597</td>\n",
       "      <td>391.644897</td>\n",
       "      <td>286.796448</td>\n",
       "      <td>37207.406250</td>\n",
       "      <td>221.706650</td>\n",
       "    </tr>\n",
       "    <tr>\n",
       "      <th>2015-01-07</th>\n",
       "      <td>1024.525024</td>\n",
       "      <td>400.685394</td>\n",
       "      <td>287.178894</td>\n",
       "      <td>37137.968750</td>\n",
       "      <td>217.372131</td>\n",
       "    </tr>\n",
       "    <tr>\n",
       "      <th>...</th>\n",
       "      <td>...</td>\n",
       "      <td>...</td>\n",
       "      <td>...</td>\n",
       "      <td>...</td>\n",
       "      <td>...</td>\n",
       "    </tr>\n",
       "    <tr>\n",
       "      <th>2024-01-31</th>\n",
       "      <td>3814.750000</td>\n",
       "      <td>2853.199951</td>\n",
       "      <td>640.650024</td>\n",
       "      <td>142505.046875</td>\n",
       "      <td>441.450012</td>\n",
       "    </tr>\n",
       "    <tr>\n",
       "      <th>2024-02-01</th>\n",
       "      <td>3851.449951</td>\n",
       "      <td>2852.699951</td>\n",
       "      <td>647.849976</td>\n",
       "      <td>142734.843750</td>\n",
       "      <td>442.850006</td>\n",
       "    </tr>\n",
       "    <tr>\n",
       "      <th>2024-02-02</th>\n",
       "      <td>3966.350098</td>\n",
       "      <td>2914.750000</td>\n",
       "      <td>650.400024</td>\n",
       "      <td>141394.843750</td>\n",
       "      <td>440.200012</td>\n",
       "    </tr>\n",
       "    <tr>\n",
       "      <th>2024-02-05</th>\n",
       "      <td>3972.750000</td>\n",
       "      <td>2877.050049</td>\n",
       "      <td>643.099976</td>\n",
       "      <td>141522.953125</td>\n",
       "      <td>438.049988</td>\n",
       "    </tr>\n",
       "    <tr>\n",
       "      <th>2024-02-06</th>\n",
       "      <td>4133.450195</td>\n",
       "      <td>2856.800049</td>\n",
       "      <td>650.900024</td>\n",
       "      <td>143354.000000</td>\n",
       "      <td>431.399994</td>\n",
       "    </tr>\n",
       "  </tbody>\n",
       "</table>\n",
       "<p>2226 rows × 5 columns</p>\n",
       "</div>"
      ],
      "text/plain": [
       "                 TCS.BO  RELIANCE.BO     SBIN.BO         MRF.BO      ITC.BO\n",
       "Date                                                                       \n",
       "2015-01-01  1080.228027   415.979248  300.182526   37723.796875  225.672287\n",
       "2015-01-02  1089.829834   414.831604  301.425507   37908.351562  226.410080\n",
       "2015-01-05  1075.861450   410.850037  298.891693   38215.394531  227.363068\n",
       "2015-01-06  1037.136597   391.644897  286.796448   37207.406250  221.706650\n",
       "2015-01-07  1024.525024   400.685394  287.178894   37137.968750  217.372131\n",
       "...                 ...          ...         ...            ...         ...\n",
       "2024-01-31  3814.750000  2853.199951  640.650024  142505.046875  441.450012\n",
       "2024-02-01  3851.449951  2852.699951  647.849976  142734.843750  442.850006\n",
       "2024-02-02  3966.350098  2914.750000  650.400024  141394.843750  440.200012\n",
       "2024-02-05  3972.750000  2877.050049  643.099976  141522.953125  438.049988\n",
       "2024-02-06  4133.450195  2856.800049  650.900024  143354.000000  431.399994\n",
       "\n",
       "[2226 rows x 5 columns]"
      ]
     },
     "execution_count": 5,
     "metadata": {},
     "output_type": "execute_result"
    }
   ],
   "source": [
    "data"
   ]
  },
  {
   "cell_type": "code",
   "execution_count": 8,
   "id": "fd3544b8",
   "metadata": {},
   "outputs": [],
   "source": [
    "data_returns = np.log(data/data.shift(1))"
   ]
  },
  {
   "cell_type": "code",
   "execution_count": 9,
   "id": "84a02f44",
   "metadata": {},
   "outputs": [
    {
     "data": {
      "text/html": [
       "<div>\n",
       "<style scoped>\n",
       "    .dataframe tbody tr th:only-of-type {\n",
       "        vertical-align: middle;\n",
       "    }\n",
       "\n",
       "    .dataframe tbody tr th {\n",
       "        vertical-align: top;\n",
       "    }\n",
       "\n",
       "    .dataframe thead th {\n",
       "        text-align: right;\n",
       "    }\n",
       "</style>\n",
       "<table border=\"1\" class=\"dataframe\">\n",
       "  <thead>\n",
       "    <tr style=\"text-align: right;\">\n",
       "      <th></th>\n",
       "      <th>TCS.BO</th>\n",
       "      <th>RELIANCE.BO</th>\n",
       "      <th>SBIN.BO</th>\n",
       "      <th>MRF.BO</th>\n",
       "      <th>ITC.BO</th>\n",
       "    </tr>\n",
       "    <tr>\n",
       "      <th>Date</th>\n",
       "      <th></th>\n",
       "      <th></th>\n",
       "      <th></th>\n",
       "      <th></th>\n",
       "      <th></th>\n",
       "    </tr>\n",
       "  </thead>\n",
       "  <tbody>\n",
       "    <tr>\n",
       "      <th>2015-01-01</th>\n",
       "      <td>NaN</td>\n",
       "      <td>NaN</td>\n",
       "      <td>NaN</td>\n",
       "      <td>NaN</td>\n",
       "      <td>NaN</td>\n",
       "    </tr>\n",
       "    <tr>\n",
       "      <th>2015-01-02</th>\n",
       "      <td>0.008849</td>\n",
       "      <td>-0.002763</td>\n",
       "      <td>0.004132</td>\n",
       "      <td>0.004880</td>\n",
       "      <td>0.003264</td>\n",
       "    </tr>\n",
       "    <tr>\n",
       "      <th>2015-01-05</th>\n",
       "      <td>-0.012900</td>\n",
       "      <td>-0.009644</td>\n",
       "      <td>-0.008442</td>\n",
       "      <td>0.008067</td>\n",
       "      <td>0.004200</td>\n",
       "    </tr>\n",
       "    <tr>\n",
       "      <th>2015-01-06</th>\n",
       "      <td>-0.036658</td>\n",
       "      <td>-0.047873</td>\n",
       "      <td>-0.041309</td>\n",
       "      <td>-0.026731</td>\n",
       "      <td>-0.025193</td>\n",
       "    </tr>\n",
       "    <tr>\n",
       "      <th>2015-01-07</th>\n",
       "      <td>-0.012235</td>\n",
       "      <td>0.022821</td>\n",
       "      <td>0.001333</td>\n",
       "      <td>-0.001868</td>\n",
       "      <td>-0.019744</td>\n",
       "    </tr>\n",
       "    <tr>\n",
       "      <th>...</th>\n",
       "      <td>...</td>\n",
       "      <td>...</td>\n",
       "      <td>...</td>\n",
       "      <td>...</td>\n",
       "      <td>...</td>\n",
       "    </tr>\n",
       "    <tr>\n",
       "      <th>2024-01-31</th>\n",
       "      <td>0.004111</td>\n",
       "      <td>0.013532</td>\n",
       "      <td>0.022175</td>\n",
       "      <td>0.012581</td>\n",
       "      <td>0.007846</td>\n",
       "    </tr>\n",
       "    <tr>\n",
       "      <th>2024-02-01</th>\n",
       "      <td>0.009575</td>\n",
       "      <td>-0.000175</td>\n",
       "      <td>0.011176</td>\n",
       "      <td>0.001611</td>\n",
       "      <td>0.003166</td>\n",
       "    </tr>\n",
       "    <tr>\n",
       "      <th>2024-02-02</th>\n",
       "      <td>0.029397</td>\n",
       "      <td>0.021518</td>\n",
       "      <td>0.003928</td>\n",
       "      <td>-0.009432</td>\n",
       "      <td>-0.006002</td>\n",
       "    </tr>\n",
       "    <tr>\n",
       "      <th>2024-02-05</th>\n",
       "      <td>0.001612</td>\n",
       "      <td>-0.013019</td>\n",
       "      <td>-0.011287</td>\n",
       "      <td>0.000906</td>\n",
       "      <td>-0.004896</td>\n",
       "    </tr>\n",
       "    <tr>\n",
       "      <th>2024-02-06</th>\n",
       "      <td>0.039654</td>\n",
       "      <td>-0.007063</td>\n",
       "      <td>0.012056</td>\n",
       "      <td>0.012855</td>\n",
       "      <td>-0.015297</td>\n",
       "    </tr>\n",
       "  </tbody>\n",
       "</table>\n",
       "<p>2226 rows × 5 columns</p>\n",
       "</div>"
      ],
      "text/plain": [
       "              TCS.BO  RELIANCE.BO   SBIN.BO    MRF.BO    ITC.BO\n",
       "Date                                                           \n",
       "2015-01-01       NaN          NaN       NaN       NaN       NaN\n",
       "2015-01-02  0.008849    -0.002763  0.004132  0.004880  0.003264\n",
       "2015-01-05 -0.012900    -0.009644 -0.008442  0.008067  0.004200\n",
       "2015-01-06 -0.036658    -0.047873 -0.041309 -0.026731 -0.025193\n",
       "2015-01-07 -0.012235     0.022821  0.001333 -0.001868 -0.019744\n",
       "...              ...          ...       ...       ...       ...\n",
       "2024-01-31  0.004111     0.013532  0.022175  0.012581  0.007846\n",
       "2024-02-01  0.009575    -0.000175  0.011176  0.001611  0.003166\n",
       "2024-02-02  0.029397     0.021518  0.003928 -0.009432 -0.006002\n",
       "2024-02-05  0.001612    -0.013019 -0.011287  0.000906 -0.004896\n",
       "2024-02-06  0.039654    -0.007063  0.012056  0.012855 -0.015297\n",
       "\n",
       "[2226 rows x 5 columns]"
      ]
     },
     "execution_count": 9,
     "metadata": {},
     "output_type": "execute_result"
    }
   ],
   "source": [
    "data_returns"
   ]
  },
  {
   "cell_type": "markdown",
   "id": "c44df6ad",
   "metadata": {},
   "source": [
    "# TCS"
   ]
  },
  {
   "cell_type": "code",
   "execution_count": 10,
   "id": "f04b72ea",
   "metadata": {},
   "outputs": [
    {
     "data": {
      "text/plain": [
       "0.150779809137451"
      ]
     },
     "execution_count": 10,
     "metadata": {},
     "output_type": "execute_result"
    }
   ],
   "source": [
    "data_returns[\"TCS.BO\"].mean() * 250"
   ]
  },
  {
   "cell_type": "code",
   "execution_count": 12,
   "id": "7b263d74",
   "metadata": {},
   "outputs": [
    {
     "name": "stdout",
     "output_type": "stream",
     "text": [
      "15.078 %\n"
     ]
    }
   ],
   "source": [
    "print (str(round((data_returns[\"TCS.BO\"].mean() * 250), 5) * 100) + \" %\")"
   ]
  },
  {
   "cell_type": "code",
   "execution_count": 14,
   "id": "22633db8",
   "metadata": {},
   "outputs": [
    {
     "data": {
      "text/plain": [
       "0.23723974788713775"
      ]
     },
     "execution_count": 14,
     "metadata": {},
     "output_type": "execute_result"
    }
   ],
   "source": [
    "data_returns[\"TCS.BO\"].std() * 250 ** 0.5"
   ]
  },
  {
   "cell_type": "code",
   "execution_count": 15,
   "id": "8bdc950a",
   "metadata": {},
   "outputs": [
    {
     "name": "stdout",
     "output_type": "stream",
     "text": [
      "23.724 %\n"
     ]
    }
   ],
   "source": [
    "print (str(round((data_returns[\"TCS.BO\"].std() * 250 ** 0.5), 5) * 100) + \" %\")"
   ]
  },
  {
   "cell_type": "markdown",
   "id": "6a1d183d",
   "metadata": {},
   "source": [
    "# RELIANCE"
   ]
  },
  {
   "cell_type": "code",
   "execution_count": 16,
   "id": "c653db42",
   "metadata": {},
   "outputs": [
    {
     "data": {
      "text/plain": [
       "0.22366095874356676"
      ]
     },
     "execution_count": 16,
     "metadata": {},
     "output_type": "execute_result"
    }
   ],
   "source": [
    "data_returns[\"RELIANCE.BO\"].mean() * 250"
   ]
  },
  {
   "cell_type": "code",
   "execution_count": 17,
   "id": "ffa05989",
   "metadata": {},
   "outputs": [
    {
     "name": "stdout",
     "output_type": "stream",
     "text": [
      "22.366 %\n"
     ]
    }
   ],
   "source": [
    "print (str(round((data_returns[\"RELIANCE.BO\"].mean() * 250), 5) * 100) + \" %\")"
   ]
  },
  {
   "cell_type": "code",
   "execution_count": 18,
   "id": "c28f90b7",
   "metadata": {},
   "outputs": [
    {
     "data": {
      "text/plain": [
       "0.28279560612030946"
      ]
     },
     "execution_count": 18,
     "metadata": {},
     "output_type": "execute_result"
    }
   ],
   "source": [
    "data_returns[\"RELIANCE.BO\"].std() * 250 ** 0.5"
   ]
  },
  {
   "cell_type": "code",
   "execution_count": 19,
   "id": "ceafeaac",
   "metadata": {},
   "outputs": [
    {
     "name": "stdout",
     "output_type": "stream",
     "text": [
      "28.28 %\n"
     ]
    }
   ],
   "source": [
    "print (str(round((data_returns[\"RELIANCE.BO\"].std() * 250 ** 0.5), 5) * 100) + \" %\")"
   ]
  },
  {
   "cell_type": "markdown",
   "id": "033793cd",
   "metadata": {},
   "source": [
    "# SBI"
   ]
  },
  {
   "cell_type": "code",
   "execution_count": 21,
   "id": "6f0181d6",
   "metadata": {},
   "outputs": [
    {
     "data": {
      "text/plain": [
       "0.09608150629902264"
      ]
     },
     "execution_count": 21,
     "metadata": {},
     "output_type": "execute_result"
    }
   ],
   "source": [
    "data_returns[\"SBIN.BO\"].mean() * 250"
   ]
  },
  {
   "cell_type": "code",
   "execution_count": 22,
   "id": "f3c0d680",
   "metadata": {},
   "outputs": [
    {
     "name": "stdout",
     "output_type": "stream",
     "text": [
      "9.608 %\n"
     ]
    }
   ],
   "source": [
    "print (str(round((data_returns[\"SBIN.BO\"].mean() * 250), 5) * 100) + \" %\")"
   ]
  },
  {
   "cell_type": "code",
   "execution_count": 23,
   "id": "b5c3db22",
   "metadata": {},
   "outputs": [
    {
     "data": {
      "text/plain": [
       "0.3368576180121475"
      ]
     },
     "execution_count": 23,
     "metadata": {},
     "output_type": "execute_result"
    }
   ],
   "source": [
    "data_returns[\"SBIN.BO\"].std() * 250 ** 0.5"
   ]
  },
  {
   "cell_type": "code",
   "execution_count": 24,
   "id": "7c19ea7c",
   "metadata": {},
   "outputs": [
    {
     "name": "stdout",
     "output_type": "stream",
     "text": [
      "33.686 %\n"
     ]
    }
   ],
   "source": [
    "print (str(round((data_returns[\"SBIN.BO\"].std() * 250 ** 0.5), 5) * 100) + \" %\")"
   ]
  },
  {
   "cell_type": "markdown",
   "id": "183f9a0c",
   "metadata": {},
   "source": [
    "# MRF"
   ]
  },
  {
   "cell_type": "code",
   "execution_count": 25,
   "id": "284b5dfa",
   "metadata": {},
   "outputs": [
    {
     "data": {
      "text/plain": [
       "0.1542244871919517"
      ]
     },
     "execution_count": 25,
     "metadata": {},
     "output_type": "execute_result"
    }
   ],
   "source": [
    "data_returns[\"MRF.BO\"].mean() * 250"
   ]
  },
  {
   "cell_type": "code",
   "execution_count": 31,
   "id": "edebc8d4",
   "metadata": {},
   "outputs": [
    {
     "name": "stdout",
     "output_type": "stream",
     "text": [
      "15.42 %\n"
     ]
    }
   ],
   "source": [
    "print (str(round((data_returns[\"MRF.BO\"].mean() * 250), 4) * 100) + \" %\")"
   ]
  },
  {
   "cell_type": "code",
   "execution_count": 32,
   "id": "f5c2eb24",
   "metadata": {},
   "outputs": [
    {
     "data": {
      "text/plain": [
       "0.2658089533415163"
      ]
     },
     "execution_count": 32,
     "metadata": {},
     "output_type": "execute_result"
    }
   ],
   "source": [
    "data_returns[\"MRF.BO\"].std() * 250 ** 0.5"
   ]
  },
  {
   "cell_type": "code",
   "execution_count": 40,
   "id": "e320f462",
   "metadata": {},
   "outputs": [
    {
     "name": "stdout",
     "output_type": "stream",
     "text": [
      "26.581 %\n"
     ]
    }
   ],
   "source": [
    "print (str(round((data_returns[\"MRF.BO\"].std() * 250 ** 0.5), 5) * 100) + \" %\")"
   ]
  },
  {
   "cell_type": "markdown",
   "id": "56f22a01",
   "metadata": {},
   "source": [
    "# ITC"
   ]
  },
  {
   "cell_type": "code",
   "execution_count": 34,
   "id": "0c5045f2",
   "metadata": {},
   "outputs": [
    {
     "data": {
      "text/plain": [
       "0.07669262267331949"
      ]
     },
     "execution_count": 34,
     "metadata": {},
     "output_type": "execute_result"
    }
   ],
   "source": [
    "data_returns[\"ITC.BO\"].mean() * 250"
   ]
  },
  {
   "cell_type": "code",
   "execution_count": 37,
   "id": "6cc20710",
   "metadata": {},
   "outputs": [
    {
     "name": "stdout",
     "output_type": "stream",
     "text": [
      "7.669 %\n"
     ]
    }
   ],
   "source": [
    "print (str(round((data_returns[\"ITC.BO\"].mean() * 250), 5) * 100) + \" %\")"
   ]
  },
  {
   "cell_type": "code",
   "execution_count": 38,
   "id": "7c68bf97",
   "metadata": {},
   "outputs": [
    {
     "data": {
      "text/plain": [
       "0.2568912785203332"
      ]
     },
     "execution_count": 38,
     "metadata": {},
     "output_type": "execute_result"
    }
   ],
   "source": [
    "data_returns[\"ITC.BO\"].std() * 250 ** 0.5"
   ]
  },
  {
   "cell_type": "code",
   "execution_count": 48,
   "id": "d293137e",
   "metadata": {},
   "outputs": [
    {
     "name": "stdout",
     "output_type": "stream",
     "text": [
      "25.689 %\n"
     ]
    }
   ],
   "source": [
    "print (str(round((data_returns[\"ITC.BO\"].std() * 250 ** 0.5), 5) * 100) + \" %\")"
   ]
  },
  {
   "cell_type": "markdown",
   "id": "f7e079e6",
   "metadata": {},
   "source": [
    "# VARIANCE"
   ]
  },
  {
   "cell_type": "code",
   "execution_count": 50,
   "id": "c74e7e9b",
   "metadata": {},
   "outputs": [
    {
     "data": {
      "text/plain": [
       "0.05628269797755268"
      ]
     },
     "execution_count": 50,
     "metadata": {},
     "output_type": "execute_result"
    }
   ],
   "source": [
    "TCS_var = data_returns[\"TCS.BO\"].var() * 250\n",
    "TCS_var"
   ]
  },
  {
   "cell_type": "code",
   "execution_count": 51,
   "id": "8c56f8fe",
   "metadata": {},
   "outputs": [
    {
     "data": {
      "text/plain": [
       "0.07997335484095323"
      ]
     },
     "execution_count": 51,
     "metadata": {},
     "output_type": "execute_result"
    }
   ],
   "source": [
    "RELIANCE_var = data_returns[\"RELIANCE.BO\"].var() * 250\n",
    "RELIANCE_var"
   ]
  },
  {
   "cell_type": "code",
   "execution_count": 52,
   "id": "82400ed8",
   "metadata": {},
   "outputs": [
    {
     "data": {
      "text/plain": [
       "0.11347305481281783"
      ]
     },
     "execution_count": 52,
     "metadata": {},
     "output_type": "execute_result"
    }
   ],
   "source": [
    "SBI_var = data_returns[\"SBIN.BO\"].var() * 250\n",
    "SBI_var"
   ]
  },
  {
   "cell_type": "code",
   "execution_count": 53,
   "id": "fec15869",
   "metadata": {},
   "outputs": [
    {
     "data": {
      "text/plain": [
       "0.07065439967651238"
      ]
     },
     "execution_count": 53,
     "metadata": {},
     "output_type": "execute_result"
    }
   ],
   "source": [
    "MRF_var = data_returns[\"MRF.BO\"].var() * 250\n",
    "MRF_var"
   ]
  },
  {
   "cell_type": "code",
   "execution_count": 55,
   "id": "96dbea77",
   "metadata": {},
   "outputs": [
    {
     "data": {
      "text/plain": [
       "0.06599312897981141"
      ]
     },
     "execution_count": 55,
     "metadata": {},
     "output_type": "execute_result"
    }
   ],
   "source": [
    "ITC_var = data_returns[\"ITC.BO\"].var() * 250\n",
    "ITC_var"
   ]
  },
  {
   "cell_type": "markdown",
   "id": "c87e4cd3",
   "metadata": {},
   "source": [
    "# COVARIANCE"
   ]
  },
  {
   "cell_type": "code",
   "execution_count": 65,
   "id": "bca6a15f",
   "metadata": {},
   "outputs": [
    {
     "data": {
      "text/html": [
       "<div>\n",
       "<style scoped>\n",
       "    .dataframe tbody tr th:only-of-type {\n",
       "        vertical-align: middle;\n",
       "    }\n",
       "\n",
       "    .dataframe tbody tr th {\n",
       "        vertical-align: top;\n",
       "    }\n",
       "\n",
       "    .dataframe thead th {\n",
       "        text-align: right;\n",
       "    }\n",
       "</style>\n",
       "<table border=\"1\" class=\"dataframe\">\n",
       "  <thead>\n",
       "    <tr style=\"text-align: right;\">\n",
       "      <th></th>\n",
       "      <th>TCS.BO</th>\n",
       "      <th>RELIANCE.BO</th>\n",
       "      <th>SBIN.BO</th>\n",
       "      <th>MRF.BO</th>\n",
       "      <th>ITC.BO</th>\n",
       "    </tr>\n",
       "  </thead>\n",
       "  <tbody>\n",
       "    <tr>\n",
       "      <th>TCS.BO</th>\n",
       "      <td>0.056283</td>\n",
       "      <td>0.018437</td>\n",
       "      <td>0.015040</td>\n",
       "      <td>0.011360</td>\n",
       "      <td>0.010912</td>\n",
       "    </tr>\n",
       "    <tr>\n",
       "      <th>RELIANCE.BO</th>\n",
       "      <td>0.018437</td>\n",
       "      <td>0.079973</td>\n",
       "      <td>0.033928</td>\n",
       "      <td>0.026176</td>\n",
       "      <td>0.017504</td>\n",
       "    </tr>\n",
       "    <tr>\n",
       "      <th>SBIN.BO</th>\n",
       "      <td>0.015040</td>\n",
       "      <td>0.033928</td>\n",
       "      <td>0.113473</td>\n",
       "      <td>0.035056</td>\n",
       "      <td>0.028572</td>\n",
       "    </tr>\n",
       "    <tr>\n",
       "      <th>MRF.BO</th>\n",
       "      <td>0.011360</td>\n",
       "      <td>0.026176</td>\n",
       "      <td>0.035056</td>\n",
       "      <td>0.070654</td>\n",
       "      <td>0.016462</td>\n",
       "    </tr>\n",
       "    <tr>\n",
       "      <th>ITC.BO</th>\n",
       "      <td>0.010912</td>\n",
       "      <td>0.017504</td>\n",
       "      <td>0.028572</td>\n",
       "      <td>0.016462</td>\n",
       "      <td>0.065993</td>\n",
       "    </tr>\n",
       "  </tbody>\n",
       "</table>\n",
       "</div>"
      ],
      "text/plain": [
       "               TCS.BO  RELIANCE.BO   SBIN.BO    MRF.BO    ITC.BO\n",
       "TCS.BO       0.056283     0.018437  0.015040  0.011360  0.010912\n",
       "RELIANCE.BO  0.018437     0.079973  0.033928  0.026176  0.017504\n",
       "SBIN.BO      0.015040     0.033928  0.113473  0.035056  0.028572\n",
       "MRF.BO       0.011360     0.026176  0.035056  0.070654  0.016462\n",
       "ITC.BO       0.010912     0.017504  0.028572  0.016462  0.065993"
      ]
     },
     "execution_count": 65,
     "metadata": {},
     "output_type": "execute_result"
    }
   ],
   "source": [
    "cov_matrix = data_returns.cov() * 250\n",
    "cov_matrix"
   ]
  },
  {
   "cell_type": "markdown",
   "id": "28cc464f",
   "metadata": {},
   "source": [
    "# CORRELATION"
   ]
  },
  {
   "cell_type": "code",
   "execution_count": 59,
   "id": "30ea19e6",
   "metadata": {},
   "outputs": [
    {
     "data": {
      "text/html": [
       "<div>\n",
       "<style scoped>\n",
       "    .dataframe tbody tr th:only-of-type {\n",
       "        vertical-align: middle;\n",
       "    }\n",
       "\n",
       "    .dataframe tbody tr th {\n",
       "        vertical-align: top;\n",
       "    }\n",
       "\n",
       "    .dataframe thead th {\n",
       "        text-align: right;\n",
       "    }\n",
       "</style>\n",
       "<table border=\"1\" class=\"dataframe\">\n",
       "  <thead>\n",
       "    <tr style=\"text-align: right;\">\n",
       "      <th></th>\n",
       "      <th>TCS.BO</th>\n",
       "      <th>RELIANCE.BO</th>\n",
       "      <th>SBIN.BO</th>\n",
       "      <th>MRF.BO</th>\n",
       "      <th>ITC.BO</th>\n",
       "    </tr>\n",
       "  </thead>\n",
       "  <tbody>\n",
       "    <tr>\n",
       "      <th>TCS.BO</th>\n",
       "      <td>1.000000</td>\n",
       "      <td>0.274860</td>\n",
       "      <td>0.188437</td>\n",
       "      <td>0.180180</td>\n",
       "      <td>0.179276</td>\n",
       "    </tr>\n",
       "    <tr>\n",
       "      <th>RELIANCE.BO</th>\n",
       "      <td>0.274860</td>\n",
       "      <td>1.000000</td>\n",
       "      <td>0.356046</td>\n",
       "      <td>0.348226</td>\n",
       "      <td>0.240866</td>\n",
       "    </tr>\n",
       "    <tr>\n",
       "      <th>SBIN.BO</th>\n",
       "      <td>0.188437</td>\n",
       "      <td>0.356046</td>\n",
       "      <td>1.000000</td>\n",
       "      <td>0.391341</td>\n",
       "      <td>0.330171</td>\n",
       "    </tr>\n",
       "    <tr>\n",
       "      <th>MRF.BO</th>\n",
       "      <td>0.180180</td>\n",
       "      <td>0.348226</td>\n",
       "      <td>0.391341</td>\n",
       "      <td>1.000000</td>\n",
       "      <td>0.240974</td>\n",
       "    </tr>\n",
       "    <tr>\n",
       "      <th>ITC.BO</th>\n",
       "      <td>0.179276</td>\n",
       "      <td>0.240866</td>\n",
       "      <td>0.330171</td>\n",
       "      <td>0.240974</td>\n",
       "      <td>1.000000</td>\n",
       "    </tr>\n",
       "  </tbody>\n",
       "</table>\n",
       "</div>"
      ],
      "text/plain": [
       "               TCS.BO  RELIANCE.BO   SBIN.BO    MRF.BO    ITC.BO\n",
       "TCS.BO       1.000000     0.274860  0.188437  0.180180  0.179276\n",
       "RELIANCE.BO  0.274860     1.000000  0.356046  0.348226  0.240866\n",
       "SBIN.BO      0.188437     0.356046  1.000000  0.391341  0.330171\n",
       "MRF.BO       0.180180     0.348226  0.391341  1.000000  0.240974\n",
       "ITC.BO       0.179276     0.240866  0.330171  0.240974  1.000000"
      ]
     },
     "execution_count": 59,
     "metadata": {},
     "output_type": "execute_result"
    }
   ],
   "source": [
    "corr_matrix = data_returns.corr() \n",
    "corr_matrix"
   ]
  },
  {
   "cell_type": "markdown",
   "id": "00df519d",
   "metadata": {},
   "source": [
    "# CALCULATING PORTFOLIO RISK"
   ]
  },
  {
   "cell_type": "code",
   "execution_count": 60,
   "id": "8499762e",
   "metadata": {},
   "outputs": [],
   "source": [
    "weights = np.array([0.2,0.2,0.2,0.2,0.2])"
   ]
  },
  {
   "cell_type": "markdown",
   "id": "0290b712",
   "metadata": {},
   "source": [
    "# PORTFOLIO VARIANCE"
   ]
  },
  {
   "cell_type": "code",
   "execution_count": 68,
   "id": "b5eceee2",
   "metadata": {},
   "outputs": [
    {
     "data": {
      "text/plain": [
       "0.03253081132183978"
      ]
     },
     "execution_count": 68,
     "metadata": {},
     "output_type": "execute_result"
    }
   ],
   "source": [
    "Portfolio_var = np.dot(weights.T, np.dot(data_returns.cov() * 250, weights))\n",
    "Portfolio_var"
   ]
  },
  {
   "cell_type": "code",
   "execution_count": 71,
   "id": "c1407aea",
   "metadata": {},
   "outputs": [
    {
     "name": "stdout",
     "output_type": "stream",
     "text": [
      "3.253 %\n"
     ]
    }
   ],
   "source": [
    "print (str(round(Portfolio_var,5) *100) + \" %\")"
   ]
  },
  {
   "cell_type": "markdown",
   "id": "22278446",
   "metadata": {},
   "source": [
    "# PORTFOLIO VOLATILITY"
   ]
  },
  {
   "cell_type": "code",
   "execution_count": 70,
   "id": "585b3819",
   "metadata": {},
   "outputs": [
    {
     "data": {
      "text/plain": [
       "0.18036299876038814"
      ]
     },
     "execution_count": 70,
     "metadata": {},
     "output_type": "execute_result"
    }
   ],
   "source": [
    "Portfolio_vol = np.dot(weights.T, np.dot(data_returns.cov() * 250, weights)) ** 0.5\n",
    "Portfolio_vol"
   ]
  },
  {
   "cell_type": "code",
   "execution_count": 76,
   "id": "a01daf6e",
   "metadata": {},
   "outputs": [
    {
     "name": "stdout",
     "output_type": "stream",
     "text": [
      "18.04 %\n"
     ]
    }
   ],
   "source": [
    "print (str(round(Portfolio_vol, 4) *100) + \" %\")"
   ]
  },
  {
   "cell_type": "markdown",
   "id": "073c25db",
   "metadata": {},
   "source": [
    "# DIVERSIFIABLE RISK (PORTFOLIO VARIANCE - WEGHTED ANNUAL VARIANCE)"
   ]
  },
  {
   "cell_type": "code",
   "execution_count": 77,
   "id": "0b840b4f",
   "metadata": {},
   "outputs": [
    {
     "data": {
      "text/plain": [
       "array([0.2, 0.2, 0.2, 0.2, 0.2])"
      ]
     },
     "execution_count": 77,
     "metadata": {},
     "output_type": "execute_result"
    }
   ],
   "source": [
    "weights"
   ]
  },
  {
   "cell_type": "code",
   "execution_count": 82,
   "id": "9711299e",
   "metadata": {},
   "outputs": [
    {
     "data": {
      "text/plain": [
       "0.01707574587033387"
      ]
     },
     "execution_count": 82,
     "metadata": {},
     "output_type": "execute_result"
    }
   ],
   "source": [
    "Diversified_Risk = Portfolio_var - (weights[0] ** 2 * TCS_var) -(weights[1] ** 2 * RELIANCE_var) - (weights[2] ** 2 * SBI_var) - (weights[3] ** 2 * MRF_var) - (weights[4] ** 2 * ITC_var)\n",
    "Diversified_Risk"
   ]
  },
  {
   "cell_type": "code",
   "execution_count": 86,
   "id": "cfc3fdcc",
   "metadata": {},
   "outputs": [
    {
     "name": "stdout",
     "output_type": "stream",
     "text": [
      "1.71 %\n"
     ]
    }
   ],
   "source": [
    "print (str(round((Diversified_Risk), 4) * 100) + \" %\")"
   ]
  },
  {
   "cell_type": "markdown",
   "id": "eb80849d",
   "metadata": {},
   "source": [
    "# NON-DIVERSIFIABLE RISK "
   ]
  },
  {
   "cell_type": "code",
   "execution_count": 89,
   "id": "2db4c11f",
   "metadata": {},
   "outputs": [
    {
     "data": {
      "text/plain": [
       "0.015455065451505906"
      ]
     },
     "execution_count": 89,
     "metadata": {},
     "output_type": "execute_result"
    }
   ],
   "source": [
    "NonDiversifiable_Risk = Portfolio_var - Diversified_Risk\n",
    "NonDiversifiable_Risk"
   ]
  },
  {
   "cell_type": "code",
   "execution_count": 90,
   "id": "2776537c",
   "metadata": {},
   "outputs": [
    {
     "name": "stdout",
     "output_type": "stream",
     "text": [
      "1.546 %\n"
     ]
    }
   ],
   "source": [
    "print(str(round((NonDiversifiable_Risk),5)*100) + \" %\")"
   ]
  }
 ],
 "metadata": {
  "kernelspec": {
   "display_name": "Python 3 (ipykernel)",
   "language": "python",
   "name": "python3"
  },
  "language_info": {
   "codemirror_mode": {
    "name": "ipython",
    "version": 3
   },
   "file_extension": ".py",
   "mimetype": "text/x-python",
   "name": "python",
   "nbconvert_exporter": "python",
   "pygments_lexer": "ipython3",
   "version": "3.11.5"
  }
 },
 "nbformat": 4,
 "nbformat_minor": 5
}
